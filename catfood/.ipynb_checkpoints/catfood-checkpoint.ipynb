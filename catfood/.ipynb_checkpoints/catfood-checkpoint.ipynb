{
 "cells": [
  {
   "cell_type": "markdown",
   "metadata": {
    "ExecuteTime": {
     "end_time": "2019-08-19T08:55:19.360919Z",
     "start_time": "2019-08-19T08:55:19.356677Z"
    }
   },
   "source": [
    "# Analysis of the CatFoodDB\n",
    "\n",
    "In this notebook I'll read the raw data gathered by the spider, and:\n",
    "- Load it into a Pandas dataframe\n",
    "- Clean and manipulate it until I'm left with a tidy dataset with correct data types and useful information\n",
    "- Explore the shape of the data and the relationships between variables and target features through numerical analysis and visualization\n",
    "- Identify the most important predictors\n",
    "- Train a machine learning model to be able to predict \"paw scores\" on its own"
   ]
  },
  {
   "cell_type": "code",
   "execution_count": 46,
   "metadata": {
    "ExecuteTime": {
     "end_time": "2019-08-19T08:55:18.898179Z",
     "start_time": "2019-08-19T08:55:18.891351Z"
    }
   },
   "outputs": [],
   "source": [
    "import numpy as np\n",
    "import pandas as pd\n",
    "import matplotlib.pyplot as plt\n",
    "import seaborn as sns\n",
    "sns.set_style('whitegrid')\n",
    "%matplotlib inline"
   ]
  },
  {
   "cell_type": "code",
   "execution_count": null,
   "metadata": {},
   "outputs": [],
   "source": [
    "from sklearn.model_selection import train_test_split\n",
    "from sklearn.preprocessing import StandardScaler\n",
    "from sklearn.metrics import confusion_matrix, classification_report"
   ]
  },
  {
   "cell_type": "markdown",
   "metadata": {},
   "source": [
    "### Loading and cleaning the data"
   ]
  },
  {
   "cell_type": "markdown",
   "metadata": {},
   "source": [
    "I begin by loading the csv file created by the spider and taking a good look at it"
   ]
  },
  {
   "cell_type": "code",
   "execution_count": 47,
   "metadata": {},
   "outputs": [
    {
     "data": {
      "text/html": [
       "<div>\n",
       "<style scoped>\n",
       "    .dataframe tbody tr th:only-of-type {\n",
       "        vertical-align: middle;\n",
       "    }\n",
       "\n",
       "    .dataframe tbody tr th {\n",
       "        vertical-align: top;\n",
       "    }\n",
       "\n",
       "    .dataframe thead th {\n",
       "        text-align: right;\n",
       "    }\n",
       "</style>\n",
       "<table border=\"1\" class=\"dataframe\">\n",
       "  <thead>\n",
       "    <tr style=\"text-align: right;\">\n",
       "      <th></th>\n",
       "      <th>brand</th>\n",
       "      <th>dma_ash</th>\n",
       "      <th>dma_cals</th>\n",
       "      <th>dma_carbs</th>\n",
       "      <th>dma_fat</th>\n",
       "      <th>dma_fiber</th>\n",
       "      <th>dma_prot</th>\n",
       "      <th>ga_ash</th>\n",
       "      <th>ga_carbs</th>\n",
       "      <th>ga_fat</th>\n",
       "      <th>ga_fiber</th>\n",
       "      <th>ga_moist</th>\n",
       "      <th>ga_prot</th>\n",
       "      <th>ingredients</th>\n",
       "      <th>ingredients_paws</th>\n",
       "      <th>name</th>\n",
       "      <th>nutrition_paws</th>\n",
       "      <th>potential_allergens</th>\n",
       "      <th>quality_ingredients</th>\n",
       "      <th>questionable_ingredients</th>\n",
       "    </tr>\n",
       "  </thead>\n",
       "  <tbody>\n",
       "    <tr>\n",
       "      <td>0</td>\n",
       "      <td>1st choice</td>\n",
       "      <td>10%</td>\n",
       "      <td>313/100g</td>\n",
       "      <td>40%</td>\n",
       "      <td>11%</td>\n",
       "      <td>7%</td>\n",
       "      <td>32%</td>\n",
       "      <td>9.0%</td>\n",
       "      <td>36.0%</td>\n",
       "      <td>10.0%</td>\n",
       "      <td>6.0%</td>\n",
       "      <td>10.0%</td>\n",
       "      <td>29.0%</td>\n",
       "      <td>Chicken,chicken meal,rice,pea protein,brown ri...</td>\n",
       "      <td>[3]</td>\n",
       "      <td>Weight Control</td>\n",
       "      <td>[2]</td>\n",
       "      <td>NaN</td>\n",
       "      <td>chicken,chicken meal</td>\n",
       "      <td>rice,brown rice</td>\n",
       "    </tr>\n",
       "    <tr>\n",
       "      <td>1</td>\n",
       "      <td>bravo</td>\n",
       "      <td>0%</td>\n",
       "      <td>87/100g</td>\n",
       "      <td>11%</td>\n",
       "      <td>31%</td>\n",
       "      <td>6%</td>\n",
       "      <td>53%</td>\n",
       "      <td>0.0%</td>\n",
       "      <td>2.0%</td>\n",
       "      <td>5.5%</td>\n",
       "      <td>1.0%</td>\n",
       "      <td>82.0%</td>\n",
       "      <td>9.5%</td>\n",
       "      <td>Turkey,turkey broth,vegetable broth,turkey hea...</td>\n",
       "      <td>[4]</td>\n",
       "      <td>Feline Cafe Turkey Fricassee</td>\n",
       "      <td>[4]</td>\n",
       "      <td>dried eggs,salmon oil,dried green lipped mussels</td>\n",
       "      <td>turkey,turkey heart,turkey liver</td>\n",
       "      <td>NaN</td>\n",
       "    </tr>\n",
       "    <tr>\n",
       "      <td>2</td>\n",
       "      <td>boreal</td>\n",
       "      <td>8%</td>\n",
       "      <td>352/100g</td>\n",
       "      <td>36%</td>\n",
       "      <td>17%</td>\n",
       "      <td>4%</td>\n",
       "      <td>36%</td>\n",
       "      <td>7.5%</td>\n",
       "      <td>32.0%</td>\n",
       "      <td>15.0%</td>\n",
       "      <td>3.5%</td>\n",
       "      <td>10.0%</td>\n",
       "      <td>32.0%</td>\n",
       "      <td>Chicken Meal,Brown Rice,Oat Meal,Pearled Barle...</td>\n",
       "      <td>[2]</td>\n",
       "      <td>Proper Chicken Meal</td>\n",
       "      <td>[2]</td>\n",
       "      <td>herring meal</td>\n",
       "      <td>chicken meal,herring meal</td>\n",
       "      <td>brown rice</td>\n",
       "    </tr>\n",
       "    <tr>\n",
       "      <td>3</td>\n",
       "      <td>blue seal</td>\n",
       "      <td>0%</td>\n",
       "      <td>356/100g</td>\n",
       "      <td>50%</td>\n",
       "      <td>12%</td>\n",
       "      <td>4%</td>\n",
       "      <td>33%</td>\n",
       "      <td>0.0%</td>\n",
       "      <td>45.0%</td>\n",
       "      <td>11.0%</td>\n",
       "      <td>4.0%</td>\n",
       "      <td>10.0%</td>\n",
       "      <td>30.0%</td>\n",
       "      <td>Poultry By-product Meal,Ground Corn,Ground Whe...</td>\n",
       "      <td>[1]</td>\n",
       "      <td>Kat Krunchies</td>\n",
       "      <td>[1]</td>\n",
       "      <td>ground corn,corn gluten meal</td>\n",
       "      <td>NaN</td>\n",
       "      <td>poultry by-product meal,ground corn,ground whe...</td>\n",
       "    </tr>\n",
       "    <tr>\n",
       "      <td>4</td>\n",
       "      <td>best breed</td>\n",
       "      <td>9%</td>\n",
       "      <td>348/100g</td>\n",
       "      <td>22%</td>\n",
       "      <td>19%</td>\n",
       "      <td>8%</td>\n",
       "      <td>42%</td>\n",
       "      <td>8.0%</td>\n",
       "      <td>20.0%</td>\n",
       "      <td>17.0%</td>\n",
       "      <td>7.0%</td>\n",
       "      <td>10.0%</td>\n",
       "      <td>38.0%</td>\n",
       "      <td>Chicken Meal,Egg Product,Chicken Fat (Preserve...</td>\n",
       "      <td>[4]</td>\n",
       "      <td>Grain Free Cat Diet</td>\n",
       "      <td>[3]</td>\n",
       "      <td>egg product,whitefish meal,fish oil</td>\n",
       "      <td>chicken meal,whitefish meal</td>\n",
       "      <td>NaN</td>\n",
       "    </tr>\n",
       "  </tbody>\n",
       "</table>\n",
       "</div>"
      ],
      "text/plain": [
       "        brand dma_ash  dma_cals dma_carbs dma_fat dma_fiber dma_prot ga_ash  \\\n",
       "0  1st choice     10%  313/100g       40%     11%        7%      32%   9.0%   \n",
       "1       bravo      0%   87/100g       11%     31%        6%      53%   0.0%   \n",
       "2      boreal      8%  352/100g       36%     17%        4%      36%   7.5%   \n",
       "3   blue seal      0%  356/100g       50%     12%        4%      33%   0.0%   \n",
       "4  best breed      9%  348/100g       22%     19%        8%      42%   8.0%   \n",
       "\n",
       "  ga_carbs ga_fat ga_fiber ga_moist ga_prot  \\\n",
       "0    36.0%  10.0%     6.0%    10.0%   29.0%   \n",
       "1     2.0%   5.5%     1.0%    82.0%    9.5%   \n",
       "2    32.0%  15.0%     3.5%    10.0%   32.0%   \n",
       "3    45.0%  11.0%     4.0%    10.0%   30.0%   \n",
       "4    20.0%  17.0%     7.0%    10.0%   38.0%   \n",
       "\n",
       "                                         ingredients ingredients_paws  \\\n",
       "0  Chicken,chicken meal,rice,pea protein,brown ri...              [3]   \n",
       "1  Turkey,turkey broth,vegetable broth,turkey hea...              [4]   \n",
       "2  Chicken Meal,Brown Rice,Oat Meal,Pearled Barle...              [2]   \n",
       "3  Poultry By-product Meal,Ground Corn,Ground Whe...              [1]   \n",
       "4  Chicken Meal,Egg Product,Chicken Fat (Preserve...              [4]   \n",
       "\n",
       "                           name nutrition_paws  \\\n",
       "0                Weight Control            [2]   \n",
       "1  Feline Cafe Turkey Fricassee            [4]   \n",
       "2           Proper Chicken Meal            [2]   \n",
       "3                 Kat Krunchies            [1]   \n",
       "4           Grain Free Cat Diet            [3]   \n",
       "\n",
       "                                potential_allergens  \\\n",
       "0                                               NaN   \n",
       "1  dried eggs,salmon oil,dried green lipped mussels   \n",
       "2                                      herring meal   \n",
       "3                      ground corn,corn gluten meal   \n",
       "4               egg product,whitefish meal,fish oil   \n",
       "\n",
       "                quality_ingredients  \\\n",
       "0              chicken,chicken meal   \n",
       "1  turkey,turkey heart,turkey liver   \n",
       "2         chicken meal,herring meal   \n",
       "3                               NaN   \n",
       "4       chicken meal,whitefish meal   \n",
       "\n",
       "                            questionable_ingredients  \n",
       "0                                    rice,brown rice  \n",
       "1                                                NaN  \n",
       "2                                         brown rice  \n",
       "3  poultry by-product meal,ground corn,ground whe...  \n",
       "4                                                NaN  "
      ]
     },
     "execution_count": 47,
     "metadata": {},
     "output_type": "execute_result"
    }
   ],
   "source": [
    "df = pd.read_csv('./catfood/spiders/food_2020-03-11T08-47-45.csv')#.dropna(axis=1)\n",
    "df.head()"
   ]
  },
  {
   "cell_type": "code",
   "execution_count": 48,
   "metadata": {
    "ExecuteTime": {
     "end_time": "2019-08-19T08:55:20.651553Z",
     "start_time": "2019-08-19T08:55:20.634592Z"
    },
    "scrolled": true
   },
   "outputs": [
    {
     "name": "stdout",
     "output_type": "stream",
     "text": [
      "<class 'pandas.core.frame.DataFrame'>\n",
      "RangeIndex: 3165 entries, 0 to 3164\n",
      "Data columns (total 20 columns):\n",
      "brand                       3165 non-null object\n",
      "dma_ash                     3165 non-null object\n",
      "dma_cals                    3165 non-null object\n",
      "dma_carbs                   3165 non-null object\n",
      "dma_fat                     3165 non-null object\n",
      "dma_fiber                   3165 non-null object\n",
      "dma_prot                    3165 non-null object\n",
      "ga_ash                      3165 non-null object\n",
      "ga_carbs                    3165 non-null object\n",
      "ga_fat                      3165 non-null object\n",
      "ga_fiber                    3165 non-null object\n",
      "ga_moist                    3165 non-null object\n",
      "ga_prot                     3165 non-null object\n",
      "ingredients                 3165 non-null object\n",
      "ingredients_paws            3165 non-null object\n",
      "name                        3165 non-null object\n",
      "nutrition_paws              3165 non-null object\n",
      "potential_allergens         2906 non-null object\n",
      "quality_ingredients         3058 non-null object\n",
      "questionable_ingredients    2424 non-null object\n",
      "dtypes: object(20)\n",
      "memory usage: 494.7+ KB\n"
     ]
    }
   ],
   "source": [
    "df.info()"
   ]
  },
  {
   "cell_type": "markdown",
   "metadata": {},
   "source": [
    "As everything has been loaded as plain text, I need to manipulate and convert each column so I end up with numerical values that a machine learning model can understand"
   ]
  },
  {
   "cell_type": "code",
   "execution_count": 49,
   "metadata": {
    "ExecuteTime": {
     "end_time": "2019-08-19T08:55:21.259861Z",
     "start_time": "2019-08-19T08:55:21.251136Z"
    }
   },
   "outputs": [],
   "source": [
    "# Convert all percent values to floats\n",
    "\n",
    "percent_cols = ['dma_ash',\n",
    "                'dma_carbs',\n",
    "                'dma_fat',\n",
    "                'dma_fiber',\n",
    "                'dma_prot',\n",
    "                'ga_ash',\n",
    "                'ga_carbs',\n",
    "                'ga_fat',\n",
    "                'ga_fiber',\n",
    "                'ga_moist',\n",
    "                'ga_prot']\n",
    "\n",
    "for col in percent_cols:\n",
    "    df[col] = df[col].str.rstrip('%').astype('float')\n",
    "    \n",
    "\n",
    "# Convert the calorie column to floats\n",
    "\n",
    "df['dma_cals'] = df['dma_cals'].map(lambda x:x.split('/')[0].replace(',', '')).astype('float')\n",
    "    \n",
    "    \n",
    "# Convert \"paw score\" columns to floats\n",
    "\n",
    "paw_cols = ['ingredients_paws', 'nutrition_paws']\n",
    "\n",
    "for col in paw_cols:\n",
    "    df[col] = df[col].str[1].astype('int')\n",
    "    \n",
    "# Convert ingredient columns into lists of strings\n",
    "\n",
    "ingredient_cols = ['ingredients', 'quality_ingredients', 'questionable_ingredients', 'potential_allergens']\n",
    "\n",
    "for col in ingredient_cols:\n",
    "    df[col].fillna('')\n",
    "    df[col] = df[col].str.split(',')"
   ]
  },
  {
   "cell_type": "code",
   "execution_count": 50,
   "metadata": {
    "ExecuteTime": {
     "end_time": "2019-08-19T08:55:22.198471Z",
     "start_time": "2019-08-19T08:55:22.180345Z"
    }
   },
   "outputs": [
    {
     "name": "stdout",
     "output_type": "stream",
     "text": [
      "<class 'pandas.core.frame.DataFrame'>\n",
      "RangeIndex: 3165 entries, 0 to 3164\n",
      "Data columns (total 20 columns):\n",
      "brand                       3165 non-null object\n",
      "dma_ash                     3165 non-null float64\n",
      "dma_cals                    3165 non-null float64\n",
      "dma_carbs                   3165 non-null float64\n",
      "dma_fat                     3165 non-null float64\n",
      "dma_fiber                   3165 non-null float64\n",
      "dma_prot                    3165 non-null float64\n",
      "ga_ash                      3165 non-null float64\n",
      "ga_carbs                    3165 non-null float64\n",
      "ga_fat                      3165 non-null float64\n",
      "ga_fiber                    3165 non-null float64\n",
      "ga_moist                    3165 non-null float64\n",
      "ga_prot                     3165 non-null float64\n",
      "ingredients                 3165 non-null object\n",
      "ingredients_paws            3165 non-null int64\n",
      "name                        3165 non-null object\n",
      "nutrition_paws              3165 non-null int64\n",
      "potential_allergens         2906 non-null object\n",
      "quality_ingredients         3058 non-null object\n",
      "questionable_ingredients    2424 non-null object\n",
      "dtypes: float64(12), int64(2), object(6)\n",
      "memory usage: 494.7+ KB\n"
     ]
    }
   ],
   "source": [
    "df.info()"
   ]
  },
  {
   "cell_type": "markdown",
   "metadata": {},
   "source": [
    "All of the numerical columns are now properly formatted and are of type float, great!\n",
    "I can start exploring and transforming the data."
   ]
  },
  {
   "cell_type": "markdown",
   "metadata": {},
   "source": [
    "### General exploration"
   ]
  },
  {
   "cell_type": "markdown",
   "metadata": {},
   "source": [
    "Let's take a look at all of the columns that I decided to scrape and the reasons why they might be useful."
   ]
  },
  {
   "cell_type": "code",
   "execution_count": 51,
   "metadata": {},
   "outputs": [
    {
     "data": {
      "text/plain": [
       "brand                                                              1st choice\n",
       "dma_ash                                                                    10\n",
       "dma_cals                                                                  313\n",
       "dma_carbs                                                                  40\n",
       "dma_fat                                                                    11\n",
       "dma_fiber                                                                   7\n",
       "dma_prot                                                                   32\n",
       "ga_ash                                                                      9\n",
       "ga_carbs                                                                   36\n",
       "ga_fat                                                                     10\n",
       "ga_fiber                                                                    6\n",
       "ga_moist                                                                   10\n",
       "ga_prot                                                                    29\n",
       "ingredients                 [Chicken, chicken meal, rice, pea protein, bro...\n",
       "ingredients_paws                                                            3\n",
       "name                                                           Weight Control\n",
       "nutrition_paws                                                              2\n",
       "potential_allergens                                                       NaN\n",
       "quality_ingredients                                   [chicken, chicken meal]\n",
       "questionable_ingredients                                   [rice, brown rice]\n",
       "Name: 0, dtype: object"
      ]
     },
     "execution_count": 51,
     "metadata": {},
     "output_type": "execute_result"
    }
   ],
   "source": [
    "df.loc[0]"
   ]
  },
  {
   "cell_type": "markdown",
   "metadata": {},
   "source": [
    "- brand: name of the manufacturer\n",
    "- name: name of the specific product\n",
    "- ga_\\*: Guaranteed Analysis nutritional values, the amount of calories, carbs, fats... declared by the manufacturer expressed as percents\n",
    "- dma_\\*: Dry Matter Analysis nutritional values, the same information as Guaranteed Analysis but normalized for moisture content (this is important because cat food comes in dry and wet formats, and we want to be able to rate them indpendently of that)\n",
    "- ingredients: list of ingredients, ordered by amount\n",
    "- quality_ingredients: ingredients that are considered beneficial, good signs of a quality product\n",
    "- questionable_ingredients: ingredients that are considered inferior, fillers, or even negative\n",
    "- potential_allergens: ingredients that could be dangerous for allergic cats\n",
    "- nutrition_paws: arbitrary rating based on the nutritional values, one of my target features!\n",
    "- ingredients_paws: arbitrary rating based on the quality of the ingredients, the other target feature!"
   ]
  },
  {
   "cell_type": "markdown",
   "metadata": {},
   "source": [
    "At this point, I decide to drop the Guaranteed Analysis columns except for ```ga_moist``` (which I need if I want to differenciate between dry and wet food), since the more appropriate Dry Matter Analysis columns already include all of the relevant nutritional information."
   ]
  },
  {
   "cell_type": "code",
   "execution_count": 52,
   "metadata": {},
   "outputs": [
    {
     "name": "stdout",
     "output_type": "stream",
     "text": [
      "<class 'pandas.core.frame.DataFrame'>\n",
      "RangeIndex: 3165 entries, 0 to 3164\n",
      "Data columns (total 15 columns):\n",
      "brand                       3165 non-null object\n",
      "dma_ash                     3165 non-null float64\n",
      "dma_cals                    3165 non-null float64\n",
      "dma_carbs                   3165 non-null float64\n",
      "dma_fat                     3165 non-null float64\n",
      "dma_fiber                   3165 non-null float64\n",
      "dma_prot                    3165 non-null float64\n",
      "ga_moist                    3165 non-null float64\n",
      "ingredients                 3165 non-null object\n",
      "ingredients_paws            3165 non-null int64\n",
      "name                        3165 non-null object\n",
      "nutrition_paws              3165 non-null int64\n",
      "potential_allergens         2906 non-null object\n",
      "quality_ingredients         3058 non-null object\n",
      "questionable_ingredients    2424 non-null object\n",
      "dtypes: float64(7), int64(2), object(6)\n",
      "memory usage: 371.0+ KB\n"
     ]
    }
   ],
   "source": [
    "ga_cols_to_drop = ['ga_ash', 'ga_carbs', 'ga_fat', 'ga_fiber', 'ga_prot']\n",
    "df.drop(ga_cols_to_drop, axis=1, inplace=True)\n",
    "df.info()"
   ]
  },
  {
   "cell_type": "markdown",
   "metadata": {},
   "source": [
    "Selecting only wet or only dry foods would be a matter of selecting entries where the ```ga_moist``` column has a value greater than, let's say, 50% (dry food's moisture content goes all the way up to 18.0%, and wet food's starts at 63.0%, 50.0% is just a convenient spot)"
   ]
  },
  {
   "cell_type": "code",
   "execution_count": 53,
   "metadata": {},
   "outputs": [
    {
     "name": "stdout",
     "output_type": "stream",
     "text": [
      "Wet foods: 2166         Min and max moist. contents: 63.0-87.5%\n",
      "Dry foods:  999         Min and max moist. contents:  0.1-18.0%\n"
     ]
    }
   ],
   "source": [
    "wf_moist = df[df['ga_moist'] > 50]['ga_moist']\n",
    "df_moist = df[df['ga_moist'] < 50]['ga_moist']\n",
    "print(\"Wet foods: {:4d}         Min and max moist. contents: {:4.1f}-{:4.1f}%\".format(wf_moist.count(), wf_moist.min(), wf_moist.max()))\n",
    "print(\"Dry foods: {:4d}         Min and max moist. contents: {:4.1f}-{:4.1f}%\".format(df_moist.count(), df_moist.min(), df_moist.max()))"
   ]
  },
  {
   "cell_type": "markdown",
   "metadata": {},
   "source": [
    "I start by taking a look at the distribution of paw score using histograms."
   ]
  },
  {
   "cell_type": "code",
   "execution_count": 93,
   "metadata": {},
   "outputs": [
    {
     "data": {
      "text/plain": [
       "<matplotlib.axes._subplots.AxesSubplot at 0x116fa0da0>"
      ]
     },
     "execution_count": 93,
     "metadata": {},
     "output_type": "execute_result"
    },
    {
     "data": {
      "image/png": "[encoded data removed]",
      "text/plain": [
       "<Figure size 432x288 with 1 Axes>"
      ]
     },
     "metadata": {
      "needs_background": "light"
     },
     "output_type": "display_data"
    }
   ],
   "source": [
    "sns.countplot(x=df['nutrition_paws'], color='blue', alpha=0.5, label='Nutrition paws')\n",
    "sns.countplot(x=df['ingredients_paws'], color='orange', alpha=0.5, label='Ingredients paws')"
   ]
  },
  {
   "cell_type": "markdown",
   "metadata": {},
   "source": [
    "I can see that, while both score systems result in roughly gaussian distributions, ingredients paws are generally lower. "
   ]
  },
  {
   "cell_type": "markdown",
   "metadata": {},
   "source": [
    "Now, I start looking into the relationships between the variable and my target features. One way that I really like and I believe to be appropriate for this problem is studying the correlations using a nice heatmap."
   ]
  },
  {
   "cell_type": "code",
   "execution_count": 34,
   "metadata": {
    "ExecuteTime": {
     "end_time": "2019-08-19T08:55:23.082282Z",
     "start_time": "2019-08-19T08:55:22.640544Z"
    }
   },
   "outputs": [
    {
     "data": {
      "text/plain": [
       "<matplotlib.axes._subplots.AxesSubplot at 0x11b86c390>"
      ]
     },
     "execution_count": 34,
     "metadata": {},
     "output_type": "execute_result"
    },
    {
     "data": {
      "image/png": "[encoded data removed]",
      "text/plain": [
       "<Figure size 432x288 with 2 Axes>"
      ]
     },
     "metadata": {
      "needs_background": "light"
     },
     "output_type": "display_data"
    }
   ],
   "source": [
    "sns.heatmap(df.corr(), cmap='seismic', square=True)"
   ]
  },
  {
   "cell_type": "markdown",
   "metadata": {},
   "source": [
    "Focusing on the ```nutrition_paws``` and ```ingredients_paws``` correlations:\n",
    "- ```nutrition_paws```\n",
    "    - ```dma_ash```, which refers to the amount of inorganic minerals that remains after a food has been burnt, appears to be slightly positive to the nutrition score\n",
    "    - ```dma_carbs``` has a highly negative correlation with the nutrition score. This makes sense as carbs are not specially good for cats (they are natural carnivores), and carbs come usually in the way of filler such as rice, grains, starches...\n",
    "    - ```dma_cals``` has also a negative correlation, it's possible that highly caloric foods are not good either\n",
    "    - ```dma_prot``` appears to be the most important factor when giving nutrition paws\n",
    "    - ```ga_moist```, which has a significatively high positive correlation, suggests that wet foods tend to receive better nutrition scores\n",
    "- ```ingredients_paws```\n",
    "    - ```dma_fat``` is the only predictor that has sort of a good correlation with the ingredients score\n",
    "    \n",
    "Also, ```nutrition_paws``` and ```ingredients_paws``` are surprisingly uncorrelated. I need to find better predictors to estimate the ingredients paws, probaly using the lists of ingredients."
   ]
  },
  {
   "cell_type": "markdown",
   "metadata": {},
   "source": [
    "Let's explore that relationship between moisture and nutrition score a bit more.\n",
    "I start by adding a ```type``` column to store if a food is wet or dry to make my life a bit simpler."
   ]
  },
  {
   "cell_type": "code",
   "execution_count": 77,
   "metadata": {},
   "outputs": [],
   "source": [
    "def wet_or_dry(moisture):\n",
    "    if moisture > 50:\n",
    "        return 'wet'\n",
    "    else:\n",
    "        return 'dry'\n",
    "    \n",
    "df['type'] = df['ga_moist'].apply(wet_or_dry)"
   ]
  },
  {
   "cell_type": "code",
   "execution_count": 79,
   "metadata": {},
   "outputs": [
    {
     "data": {
      "text/html": [
       "<div>\n",
       "<style scoped>\n",
       "    .dataframe tbody tr th:only-of-type {\n",
       "        vertical-align: middle;\n",
       "    }\n",
       "\n",
       "    .dataframe tbody tr th {\n",
       "        vertical-align: top;\n",
       "    }\n",
       "\n",
       "    .dataframe thead th {\n",
       "        text-align: right;\n",
       "    }\n",
       "</style>\n",
       "<table border=\"1\" class=\"dataframe\">\n",
       "  <thead>\n",
       "    <tr style=\"text-align: right;\">\n",
       "      <th></th>\n",
       "      <th>dma_ash</th>\n",
       "      <th>dma_cals</th>\n",
       "      <th>dma_carbs</th>\n",
       "      <th>dma_fat</th>\n",
       "      <th>dma_fiber</th>\n",
       "      <th>dma_prot</th>\n",
       "      <th>ga_moist</th>\n",
       "      <th>ingredients_paws</th>\n",
       "      <th>nutrition_paws</th>\n",
       "    </tr>\n",
       "    <tr>\n",
       "      <th>type</th>\n",
       "      <th></th>\n",
       "      <th></th>\n",
       "      <th></th>\n",
       "      <th></th>\n",
       "      <th></th>\n",
       "      <th></th>\n",
       "      <th></th>\n",
       "      <th></th>\n",
       "      <th></th>\n",
       "    </tr>\n",
       "  </thead>\n",
       "  <tbody>\n",
       "    <tr>\n",
       "      <td>wet</td>\n",
       "      <td>7.730840</td>\n",
       "      <td>82.379040</td>\n",
       "      <td>15.600185</td>\n",
       "      <td>20.444137</td>\n",
       "      <td>6.274238</td>\n",
       "      <td>50.256694</td>\n",
       "      <td>79.915143</td>\n",
       "      <td>2.694829</td>\n",
       "      <td>3.555402</td>\n",
       "    </tr>\n",
       "    <tr>\n",
       "      <td>dry</td>\n",
       "      <td>3.244244</td>\n",
       "      <td>368.016016</td>\n",
       "      <td>35.509510</td>\n",
       "      <td>17.434434</td>\n",
       "      <td>5.046046</td>\n",
       "      <td>38.746747</td>\n",
       "      <td>9.772472</td>\n",
       "      <td>3.048048</td>\n",
       "      <td>2.137137</td>\n",
       "    </tr>\n",
       "  </tbody>\n",
       "</table>\n",
       "</div>"
      ],
      "text/plain": [
       "       dma_ash    dma_cals  dma_carbs    dma_fat  dma_fiber   dma_prot  \\\n",
       "type                                                                     \n",
       "wet   7.730840   82.379040  15.600185  20.444137   6.274238  50.256694   \n",
       "dry   3.244244  368.016016  35.509510  17.434434   5.046046  38.746747   \n",
       "\n",
       "       ga_moist  ingredients_paws  nutrition_paws  \n",
       "type                                               \n",
       "wet   79.915143          2.694829        3.555402  \n",
       "dry    9.772472          3.048048        2.137137  "
      ]
     },
     "execution_count": 79,
     "metadata": {},
     "output_type": "execute_result"
    }
   ],
   "source": [
    "g_moist = df.groupby('type').mean().sort_values('nutrition_paws', ascending=False)\n",
    "g_moist"
   ]
  },
  {
   "cell_type": "code",
   "execution_count": 102,
   "metadata": {},
   "outputs": [
    {
     "data": {
      "text/plain": [
       "<matplotlib.axes._subplots.AxesSubplot at 0x11e78ab38>"
      ]
     },
     "execution_count": 102,
     "metadata": {},
     "output_type": "execute_result"
    },
    {
     "data": {
      "image/png": "[encoded data removed]",
      "text/plain": [
       "<Figure size 432x288 with 1 Axes>"
      ]
     },
     "metadata": {
      "needs_background": "light"
     },
     "output_type": "display_data"
    }
   ],
   "source": [
    "sns.countplot(x=df['nutrition_paws'], hue=df['type'], palette='coolwarm_r')"
   ]
  },
  {
   "cell_type": "markdown",
   "metadata": {},
   "source": [
    "It appears that not only the mean value of the nutrition score is higher for wet foods, but also there are many more wet foods with high scores than dry foods, and that the latter tend to have generally low scores."
   ]
  },
  {
   "cell_type": "code",
   "execution_count": 103,
   "metadata": {},
   "outputs": [
    {
     "data": {
      "text/plain": [
       "<matplotlib.axes._subplots.AxesSubplot at 0x11e92cc18>"
      ]
     },
     "execution_count": 103,
     "metadata": {},
     "output_type": "execute_result"
    },
    {
     "data": {
      "image/png": "[encoded data removed]",
      "text/plain": [
       "<Figure size 432x288 with 1 Axes>"
      ]
     },
     "metadata": {
      "needs_background": "light"
     },
     "output_type": "display_data"
    }
   ],
   "source": [
    "sns.countplot(x=df['ingredients_paws'], hue=df['type'], palette='coolwarm_r')"
   ]
  },
  {
   "cell_type": "markdown",
   "metadata": {},
   "source": [
    "This moisture content, however, doesn't appear to have any relevant impact in the ingredients score, and both wet and dry distributions look fairly similar."
   ]
  },
  {
   "cell_type": "markdown",
   "metadata": {},
   "source": [
    "### Nutrition paws\n",
    "Let's dive a bit deeper into what decides the nutritional score of a food, and try to build a model to predict it.\n",
    "\n",
    "As I studied earlier, the variables that correlate the most with ```nutrition_paws``` are the following:"
   ]
  },
  {
   "cell_type": "code",
   "execution_count": 110,
   "metadata": {
    "ExecuteTime": {
     "end_time": "2019-08-19T08:55:23.116455Z",
     "start_time": "2019-08-19T08:55:23.085949Z"
    }
   },
   "outputs": [
    {
     "data": {
      "text/html": [
       "<div>\n",
       "<style scoped>\n",
       "    .dataframe tbody tr th:only-of-type {\n",
       "        vertical-align: middle;\n",
       "    }\n",
       "\n",
       "    .dataframe tbody tr th {\n",
       "        vertical-align: top;\n",
       "    }\n",
       "\n",
       "    .dataframe thead th {\n",
       "        text-align: right;\n",
       "    }\n",
       "</style>\n",
       "<table border=\"1\" class=\"dataframe\">\n",
       "  <thead>\n",
       "    <tr style=\"text-align: right;\">\n",
       "      <th></th>\n",
       "      <th>dma_ash</th>\n",
       "      <th>dma_cals</th>\n",
       "      <th>dma_carbs</th>\n",
       "      <th>dma_prot</th>\n",
       "      <th>ga_moist</th>\n",
       "      <th>nutrition_paws</th>\n",
       "    </tr>\n",
       "  </thead>\n",
       "  <tbody>\n",
       "    <tr>\n",
       "      <td>0</td>\n",
       "      <td>10.0</td>\n",
       "      <td>313.0</td>\n",
       "      <td>40.0</td>\n",
       "      <td>32.0</td>\n",
       "      <td>10.0</td>\n",
       "      <td>2</td>\n",
       "    </tr>\n",
       "    <tr>\n",
       "      <td>1</td>\n",
       "      <td>0.0</td>\n",
       "      <td>87.0</td>\n",
       "      <td>11.0</td>\n",
       "      <td>53.0</td>\n",
       "      <td>82.0</td>\n",
       "      <td>4</td>\n",
       "    </tr>\n",
       "    <tr>\n",
       "      <td>2</td>\n",
       "      <td>8.0</td>\n",
       "      <td>352.0</td>\n",
       "      <td>36.0</td>\n",
       "      <td>36.0</td>\n",
       "      <td>10.0</td>\n",
       "      <td>2</td>\n",
       "    </tr>\n",
       "    <tr>\n",
       "      <td>3</td>\n",
       "      <td>0.0</td>\n",
       "      <td>356.0</td>\n",
       "      <td>50.0</td>\n",
       "      <td>33.0</td>\n",
       "      <td>10.0</td>\n",
       "      <td>1</td>\n",
       "    </tr>\n",
       "    <tr>\n",
       "      <td>4</td>\n",
       "      <td>9.0</td>\n",
       "      <td>348.0</td>\n",
       "      <td>22.0</td>\n",
       "      <td>42.0</td>\n",
       "      <td>10.0</td>\n",
       "      <td>3</td>\n",
       "    </tr>\n",
       "  </tbody>\n",
       "</table>\n",
       "</div>"
      ],
      "text/plain": [
       "   dma_ash  dma_cals  dma_carbs  dma_prot  ga_moist  nutrition_paws\n",
       "0     10.0     313.0       40.0      32.0      10.0               2\n",
       "1      0.0      87.0       11.0      53.0      82.0               4\n",
       "2      8.0     352.0       36.0      36.0      10.0               2\n",
       "3      0.0     356.0       50.0      33.0      10.0               1\n",
       "4      9.0     348.0       22.0      42.0      10.0               3"
      ]
     },
     "execution_count": 110,
     "metadata": {},
     "output_type": "execute_result"
    }
   ],
   "source": [
    "n_paws_preds = ['dma_ash', 'dma_cals', 'dma_carbs', 'dma_prot', 'ga_moist']\n",
    "n_paws_df = X_n_paws = df[n_paws_preds]\n",
    "n_paws_df = pd.concat([n_paws_df, df['nutrition_paws']], axis=1)\n",
    "n_paws_df.head()"
   ]
  },
  {
   "cell_type": "code",
   "execution_count": 111,
   "metadata": {
    "ExecuteTime": {
     "end_time": "2019-08-19T08:55:23.741078Z",
     "start_time": "2019-08-19T08:55:23.120523Z"
    }
   },
   "outputs": [
    {
     "data": {
      "text/plain": [
       "<matplotlib.axes._subplots.AxesSubplot at 0x11f23a208>"
      ]
     },
     "execution_count": 111,
     "metadata": {},
     "output_type": "execute_result"
    },
    {
     "data": {
      "image/png": "[encoded data removed]",
      "text/plain": [
       "<Figure size 432x288 with 2 Axes>"
      ]
     },
     "metadata": {
      "needs_background": "light"
     },
     "output_type": "display_data"
    }
   ],
   "source": [
    "sns.heatmap(n_paws_df.corr(), cmap='seismic', square=True, annot=True)"
   ]
  },
  {
   "cell_type": "code",
   "execution_count": 164,
   "metadata": {
    "ExecuteTime": {
     "end_time": "2019-08-19T08:55:23.767188Z",
     "start_time": "2019-08-19T08:55:23.754313Z"
    },
    "scrolled": true
   },
   "outputs": [
    {
     "data": {
      "text/plain": [
       "1     262\n",
       "2     601\n",
       "3    1131\n",
       "4     876\n",
       "5     295\n",
       "Name: nutrition_paws, dtype: int64"
      ]
     },
     "execution_count": 164,
     "metadata": {},
     "output_type": "execute_result"
    }
   ],
   "source": [
    "n_paws_df['nutrition_paws'].value_counts().sort_index()"
   ]
  },
  {
   "cell_type": "code",
   "execution_count": 165,
   "metadata": {
    "ExecuteTime": {
     "end_time": "2019-08-19T08:55:23.892377Z",
     "start_time": "2019-08-19T08:55:23.875694Z"
    }
   },
   "outputs": [],
   "source": [
    "X_n_paws = n_paws_df.drop('nutrition_paws', axis=1)\n",
    "y_n_paws = n_paws_df['nutrition_paws']"
   ]
  },
  {
   "cell_type": "code",
   "execution_count": 169,
   "metadata": {
    "ExecuteTime": {
     "end_time": "2019-08-19T08:55:25.552728Z",
     "start_time": "2019-08-19T08:55:25.541292Z"
    }
   },
   "outputs": [],
   "source": [
    "X_train, X_test, y_train, y_test = train_test_split(X_n_paws, y_n_paws, test_size=0.33, random_state=42, stratify=y_n_paws)"
   ]
  },
  {
   "cell_type": "code",
   "execution_count": 170,
   "metadata": {},
   "outputs": [],
   "source": [
    "scaler = StandardScaler()\n",
    "scaler.fit(X_train)\n",
    "X_train = scaler.transform(X_train)\n",
    "X_test = scaler.transform(X_test)"
   ]
  },
  {
   "cell_type": "code",
   "execution_count": 171,
   "metadata": {
    "ExecuteTime": {
     "end_time": "2019-08-19T08:55:24.759829Z",
     "start_time": "2019-08-19T08:55:24.755964Z"
    }
   },
   "outputs": [],
   "source": [
    "from sklearn.linear_model import LogisticRegression"
   ]
  },
  {
   "cell_type": "code",
   "execution_count": 172,
   "metadata": {
    "ExecuteTime": {
     "end_time": "2019-08-19T08:55:25.016330Z",
     "start_time": "2019-08-19T08:55:25.012502Z"
    }
   },
   "outputs": [],
   "source": [
    "lr = LogisticRegression(multi_class='multinomial',\n",
    "                       solver='newton-cg')"
   ]
  },
  {
   "cell_type": "code",
   "execution_count": 173,
   "metadata": {
    "ExecuteTime": {
     "end_time": "2019-08-19T08:55:26.497351Z",
     "start_time": "2019-08-19T08:55:25.731166Z"
    }
   },
   "outputs": [
    {
     "data": {
      "text/plain": [
       "LogisticRegression(C=1.0, class_weight=None, dual=False, fit_intercept=True,\n",
       "                   intercept_scaling=1, l1_ratio=None, max_iter=100,\n",
       "                   multi_class='multinomial', n_jobs=None, penalty='l2',\n",
       "                   random_state=None, solver='newton-cg', tol=0.0001, verbose=0,\n",
       "                   warm_start=False)"
      ]
     },
     "execution_count": 173,
     "metadata": {},
     "output_type": "execute_result"
    }
   ],
   "source": [
    "lr.fit(X_train, y_train)"
   ]
  },
  {
   "cell_type": "code",
   "execution_count": 174,
   "metadata": {
    "ExecuteTime": {
     "end_time": "2019-08-19T08:55:26.507927Z",
     "start_time": "2019-08-19T08:55:26.501384Z"
    }
   },
   "outputs": [],
   "source": [
    "y_pred = lr.predict(X_test)"
   ]
  },
  {
   "cell_type": "code",
   "execution_count": 175,
   "metadata": {
    "ExecuteTime": {
     "end_time": "2019-08-19T08:55:26.998029Z",
     "start_time": "2019-08-19T08:55:26.521449Z"
    }
   },
   "outputs": [
    {
     "name": "stdout",
     "output_type": "stream",
     "text": [
      "              precision    recall  f1-score   support\n",
      "\n",
      "           1       0.84      0.70      0.76        87\n",
      "           2       0.78      0.79      0.78       199\n",
      "           3       0.81      0.86      0.83       373\n",
      "           4       0.82      0.83      0.83       289\n",
      "           5       0.94      0.80      0.87        97\n",
      "\n",
      "    accuracy                           0.82      1045\n",
      "   macro avg       0.84      0.80      0.81      1045\n",
      "weighted avg       0.82      0.82      0.82      1045\n",
      "\n",
      "[[ 61  26   0   0   0]\n",
      " [ 12 157  30   0   0]\n",
      " [  0  19 319  35   0]\n",
      " [  0   0  43 241   5]\n",
      " [  0   0   0  19  78]]\n"
     ]
    },
    {
     "data": {
      "image/png": "[encoded data removed]",
      "text/plain": [
       "<Figure size 432x288 with 2 Axes>"
      ]
     },
     "metadata": {
      "needs_background": "light"
     },
     "output_type": "display_data"
    }
   ],
   "source": [
    "sns.heatmap(data=confusion_matrix(y_test, y_pred),\n",
    "           square=True,\n",
    "           annot=True,\n",
    "           fmt='d')\n",
    "print(classification_report(y_test, y_pred))\n",
    "print(confusion_matrix(y_test, y_pred))"
   ]
  },
  {
   "cell_type": "code",
   "execution_count": 176,
   "metadata": {
    "ExecuteTime": {
     "end_time": "2019-08-19T08:55:27.008801Z",
     "start_time": "2019-08-19T08:55:27.001892Z"
    }
   },
   "outputs": [],
   "source": [
    "from sklearn.svm import SVC"
   ]
  },
  {
   "cell_type": "code",
   "execution_count": 177,
   "metadata": {
    "ExecuteTime": {
     "end_time": "2019-08-19T08:55:27.022908Z",
     "start_time": "2019-08-19T08:55:27.013538Z"
    }
   },
   "outputs": [],
   "source": [
    "svc = SVC(gamma='auto')"
   ]
  },
  {
   "cell_type": "code",
   "execution_count": 178,
   "metadata": {
    "ExecuteTime": {
     "end_time": "2019-08-19T08:55:27.499876Z",
     "start_time": "2019-08-19T08:55:27.029372Z"
    }
   },
   "outputs": [
    {
     "data": {
      "text/plain": [
       "SVC(C=1.0, cache_size=200, class_weight=None, coef0=0.0,\n",
       "    decision_function_shape='ovr', degree=3, gamma='auto', kernel='rbf',\n",
       "    max_iter=-1, probability=False, random_state=None, shrinking=True,\n",
       "    tol=0.001, verbose=False)"
      ]
     },
     "execution_count": 178,
     "metadata": {},
     "output_type": "execute_result"
    }
   ],
   "source": [
    "svc.fit(X_train, y_train)"
   ]
  },
  {
   "cell_type": "code",
   "execution_count": 179,
   "metadata": {
    "ExecuteTime": {
     "end_time": "2019-08-19T08:55:27.587262Z",
     "start_time": "2019-08-19T08:55:27.506680Z"
    }
   },
   "outputs": [],
   "source": [
    "y_pred = svc.predict(X_test)"
   ]
  },
  {
   "cell_type": "code",
   "execution_count": 180,
   "metadata": {
    "ExecuteTime": {
     "end_time": "2019-08-19T08:55:27.995840Z",
     "start_time": "2019-08-19T08:55:27.593023Z"
    }
   },
   "outputs": [
    {
     "name": "stdout",
     "output_type": "stream",
     "text": [
      "              precision    recall  f1-score   support\n",
      "\n",
      "           1       0.86      0.69      0.76        87\n",
      "           2       0.79      0.77      0.78       199\n",
      "           3       0.80      0.87      0.84       373\n",
      "           4       0.82      0.82      0.82       289\n",
      "           5       0.91      0.84      0.87        97\n",
      "\n",
      "    accuracy                           0.82      1045\n",
      "   macro avg       0.84      0.80      0.81      1045\n",
      "weighted avg       0.82      0.82      0.82      1045\n",
      "\n",
      "[[ 60  27   0   0   0]\n",
      " [ 10 153  36   0   0]\n",
      " [  0  13 324  36   0]\n",
      " [  0   0  43 238   8]\n",
      " [  0   0   0  16  81]]\n"
     ]
    },
    {
     "data": {
      "image/png": "[encoded data removed]",
      "text/plain": [
       "<Figure size 432x288 with 2 Axes>"
      ]
     },
     "metadata": {
      "needs_background": "light"
     },
     "output_type": "display_data"
    }
   ],
   "source": [
    "sns.heatmap(data=confusion_matrix(y_test, y_pred),\n",
    "           square=True,\n",
    "           annot=True,\n",
    "           fmt='d')\n",
    "print(classification_report(y_test, y_pred))\n",
    "print(confusion_matrix(y_test, y_pred))"
   ]
  },
  {
   "cell_type": "code",
   "execution_count": 146,
   "metadata": {
    "ExecuteTime": {
     "end_time": "2019-08-19T08:55:28.005562Z",
     "start_time": "2019-08-19T08:55:27.999349Z"
    }
   },
   "outputs": [],
   "source": [
    "from sklearn.model_selection import GridSearchCV"
   ]
  },
  {
   "cell_type": "code",
   "execution_count": 184,
   "metadata": {
    "ExecuteTime": {
     "end_time": "2019-08-19T08:55:28.016999Z",
     "start_time": "2019-08-19T08:55:28.010894Z"
    }
   },
   "outputs": [],
   "source": [
    "param_grid = {'C':[1000, 10000, 100000], 'gamma':[10e-1, 10e-2, 10e-3]}"
   ]
  },
  {
   "cell_type": "code",
   "execution_count": 185,
   "metadata": {
    "ExecuteTime": {
     "end_time": "2019-08-19T08:58:54.324630Z",
     "start_time": "2019-08-19T08:55:28.023946Z"
    },
    "scrolled": true
   },
   "outputs": [
    {
     "name": "stdout",
     "output_type": "stream",
     "text": [
      "Fitting 5 folds for each of 9 candidates, totalling 45 fits\n",
      "[CV] C=1000, gamma=1.0 ...............................................\n"
     ]
    },
    {
     "name": "stderr",
     "output_type": "stream",
     "text": [
      "[Parallel(n_jobs=1)]: Using backend SequentialBackend with 1 concurrent workers.\n"
     ]
    },
    {
     "name": "stdout",
     "output_type": "stream",
     "text": [
      "[CV] ................... C=1000, gamma=1.0, score=0.803, total=   0.3s\n",
      "[CV] C=1000, gamma=1.0 ...............................................\n"
     ]
    },
    {
     "name": "stderr",
     "output_type": "stream",
     "text": [
      "[Parallel(n_jobs=1)]: Done   1 out of   1 | elapsed:    0.3s remaining:    0.0s\n"
     ]
    },
    {
     "name": "stdout",
     "output_type": "stream",
     "text": [
      "[CV] ................... C=1000, gamma=1.0, score=0.812, total=   0.3s\n",
      "[CV] C=1000, gamma=1.0 ...............................................\n"
     ]
    },
    {
     "name": "stderr",
     "output_type": "stream",
     "text": [
      "[Parallel(n_jobs=1)]: Done   2 out of   2 | elapsed:    0.6s remaining:    0.0s\n"
     ]
    },
    {
     "name": "stdout",
     "output_type": "stream",
     "text": [
      "[CV] ................... C=1000, gamma=1.0, score=0.840, total=   0.2s\n",
      "[CV] C=1000, gamma=1.0 ...............................................\n"
     ]
    },
    {
     "name": "stderr",
     "output_type": "stream",
     "text": [
      "[Parallel(n_jobs=1)]: Done   3 out of   3 | elapsed:    0.8s remaining:    0.0s\n"
     ]
    },
    {
     "name": "stdout",
     "output_type": "stream",
     "text": [
      "[CV] ................... C=1000, gamma=1.0, score=0.860, total=   0.3s\n",
      "[CV] C=1000, gamma=1.0 ...............................................\n"
     ]
    },
    {
     "name": "stderr",
     "output_type": "stream",
     "text": [
      "[Parallel(n_jobs=1)]: Done   4 out of   4 | elapsed:    1.1s remaining:    0.0s\n"
     ]
    },
    {
     "name": "stdout",
     "output_type": "stream",
     "text": [
      "[CV] ................... C=1000, gamma=1.0, score=0.813, total=   0.4s\n",
      "[CV] C=1000, gamma=0.1 ...............................................\n",
      "[CV] ................... C=1000, gamma=0.1, score=0.819, total=   0.2s\n",
      "[CV] C=1000, gamma=0.1 ...............................................\n"
     ]
    },
    {
     "name": "stderr",
     "output_type": "stream",
     "text": [
      "[Parallel(n_jobs=1)]: Done   5 out of   5 | elapsed:    1.5s remaining:    0.0s\n",
      "[Parallel(n_jobs=1)]: Done   6 out of   6 | elapsed:    1.6s remaining:    0.0s\n"
     ]
    },
    {
     "name": "stdout",
     "output_type": "stream",
     "text": [
      "[CV] ................... C=1000, gamma=0.1, score=0.770, total=   0.2s\n",
      "[CV] C=1000, gamma=0.1 ...............................................\n",
      "[CV] ................... C=1000, gamma=0.1, score=0.811, total=   0.2s\n",
      "[CV] C=1000, gamma=0.1 ...............................................\n"
     ]
    },
    {
     "name": "stderr",
     "output_type": "stream",
     "text": [
      "[Parallel(n_jobs=1)]: Done   7 out of   7 | elapsed:    1.8s remaining:    0.0s\n",
      "[Parallel(n_jobs=1)]: Done   8 out of   8 | elapsed:    2.0s remaining:    0.0s\n"
     ]
    },
    {
     "name": "stdout",
     "output_type": "stream",
     "text": [
      "[CV] ................... C=1000, gamma=0.1, score=0.834, total=   0.2s\n",
      "[CV] C=1000, gamma=0.1 ...............................................\n",
      "[CV] ................... C=1000, gamma=0.1, score=0.806, total=   0.2s\n",
      "[CV] C=1000, gamma=0.01 ..............................................\n"
     ]
    },
    {
     "name": "stderr",
     "output_type": "stream",
     "text": [
      "[Parallel(n_jobs=1)]: Done   9 out of   9 | elapsed:    2.2s remaining:    0.0s\n"
     ]
    },
    {
     "name": "stdout",
     "output_type": "stream",
     "text": [
      "[CV] .................. C=1000, gamma=0.01, score=0.824, total=   0.1s\n",
      "[CV] C=1000, gamma=0.01 ..............................................\n",
      "[CV] .................. C=1000, gamma=0.01, score=0.770, total=   0.1s\n",
      "[CV] C=1000, gamma=0.01 ..............................................\n",
      "[CV] .................. C=1000, gamma=0.01, score=0.800, total=   0.1s\n",
      "[CV] C=1000, gamma=0.01 ..............................................\n",
      "[CV] .................. C=1000, gamma=0.01, score=0.834, total=   0.1s\n",
      "[CV] C=1000, gamma=0.01 ..............................................\n",
      "[CV] .................. C=1000, gamma=0.01, score=0.780, total=   0.1s\n",
      "[CV] C=10000, gamma=1.0 ..............................................\n",
      "[CV] .................. C=10000, gamma=1.0, score=0.815, total=   1.3s\n",
      "[CV] C=10000, gamma=1.0 ..............................................\n",
      "[CV] .................. C=10000, gamma=1.0, score=0.805, total=   1.2s\n",
      "[CV] C=10000, gamma=1.0 ..............................................\n",
      "[CV] .................. C=10000, gamma=1.0, score=0.818, total=   1.1s\n",
      "[CV] C=10000, gamma=1.0 ..............................................\n",
      "[CV] .................. C=10000, gamma=1.0, score=0.867, total=   1.3s\n",
      "[CV] C=10000, gamma=1.0 ..............................................\n",
      "[CV] .................. C=10000, gamma=1.0, score=0.815, total=   1.1s\n",
      "[CV] C=10000, gamma=0.1 ..............................................\n",
      "[CV] .................. C=10000, gamma=0.1, score=0.819, total=   1.0s\n",
      "[CV] C=10000, gamma=0.1 ..............................................\n",
      "[CV] .................. C=10000, gamma=0.1, score=0.791, total=   1.0s\n",
      "[CV] C=10000, gamma=0.1 ..............................................\n",
      "[CV] .................. C=10000, gamma=0.1, score=0.821, total=   1.1s\n",
      "[CV] C=10000, gamma=0.1 ..............................................\n",
      "[CV] .................. C=10000, gamma=0.1, score=0.848, total=   1.3s\n",
      "[CV] C=10000, gamma=0.1 ..............................................\n",
      "[CV] .................. C=10000, gamma=0.1, score=0.825, total=   1.1s\n",
      "[CV] C=10000, gamma=0.01 .............................................\n",
      "[CV] ................. C=10000, gamma=0.01, score=0.819, total=   0.2s\n",
      "[CV] C=10000, gamma=0.01 .............................................\n",
      "[CV] ................. C=10000, gamma=0.01, score=0.756, total=   0.2s\n",
      "[CV] C=10000, gamma=0.01 .............................................\n",
      "[CV] ................. C=10000, gamma=0.01, score=0.811, total=   0.2s\n",
      "[CV] C=10000, gamma=0.01 .............................................\n",
      "[CV] ................. C=10000, gamma=0.01, score=0.832, total=   0.2s\n",
      "[CV] C=10000, gamma=0.01 .............................................\n",
      "[CV] ................. C=10000, gamma=0.01, score=0.796, total=   0.2s\n",
      "[CV] C=100000, gamma=1.0 .............................................\n",
      "[CV] ................. C=100000, gamma=1.0, score=0.810, total=   4.6s\n",
      "[CV] C=100000, gamma=1.0 .............................................\n",
      "[CV] ................. C=100000, gamma=1.0, score=0.791, total=   3.9s\n",
      "[CV] C=100000, gamma=1.0 .............................................\n",
      "[CV] ................. C=100000, gamma=1.0, score=0.809, total=   4.7s\n",
      "[CV] C=100000, gamma=1.0 .............................................\n",
      "[CV] ................. C=100000, gamma=1.0, score=0.853, total=   5.7s\n",
      "[CV] C=100000, gamma=1.0 .............................................\n",
      "[CV] ................. C=100000, gamma=1.0, score=0.808, total=   5.4s\n",
      "[CV] C=100000, gamma=0.1 .............................................\n",
      "[CV] ................. C=100000, gamma=0.1, score=0.817, total=   8.0s\n",
      "[CV] C=100000, gamma=0.1 .............................................\n",
      "[CV] ................. C=100000, gamma=0.1, score=0.798, total=   8.2s\n",
      "[CV] C=100000, gamma=0.1 .............................................\n",
      "[CV] ................. C=100000, gamma=0.1, score=0.823, total=   8.3s\n",
      "[CV] C=100000, gamma=0.1 .............................................\n",
      "[CV] ................. C=100000, gamma=0.1, score=0.841, total=   7.5s\n",
      "[CV] C=100000, gamma=0.1 .............................................\n",
      "[CV] ................. C=100000, gamma=0.1, score=0.818, total=  10.7s\n",
      "[CV] C=100000, gamma=0.01 ............................................\n",
      "[CV] ................ C=100000, gamma=0.01, score=0.819, total=   1.8s\n",
      "[CV] C=100000, gamma=0.01 ............................................\n",
      "[CV] ................ C=100000, gamma=0.01, score=0.770, total=   1.4s\n",
      "[CV] C=100000, gamma=0.01 ............................................\n",
      "[CV] ................ C=100000, gamma=0.01, score=0.814, total=   1.5s\n",
      "[CV] C=100000, gamma=0.01 ............................................\n",
      "[CV] ................ C=100000, gamma=0.01, score=0.829, total=   1.5s\n",
      "[CV] C=100000, gamma=0.01 ............................................\n",
      "[CV] ................ C=100000, gamma=0.01, score=0.784, total=   1.7s\n"
     ]
    },
    {
     "name": "stderr",
     "output_type": "stream",
     "text": [
      "[Parallel(n_jobs=1)]: Done  45 out of  45 | elapsed:  1.5min finished\n"
     ]
    },
    {
     "data": {
      "text/plain": [
       "GridSearchCV(cv=5, error_score='raise-deprecating',\n",
       "             estimator=SVC(C=1.0, cache_size=200, class_weight=None, coef0=0.0,\n",
       "                           decision_function_shape='ovr', degree=3,\n",
       "                           gamma='auto_deprecated', kernel='rbf', max_iter=-1,\n",
       "                           probability=False, random_state=None, shrinking=True,\n",
       "                           tol=0.001, verbose=False),\n",
       "             iid='warn', n_jobs=None,\n",
       "             param_grid={'C': [1000, 10000, 100000], 'gamma': [1.0, 0.1, 0.01]},\n",
       "             pre_dispatch='2*n_jobs', refit=True, return_train_score=False,\n",
       "             scoring=None, verbose=10)"
      ]
     },
     "execution_count": 185,
     "metadata": {},
     "output_type": "execute_result"
    }
   ],
   "source": [
    "grid = GridSearchCV(estimator=SVC(), param_grid=param_grid, verbose=10, cv=5)\n",
    "grid.fit(X_train, y_train)"
   ]
  },
  {
   "cell_type": "code",
   "execution_count": 186,
   "metadata": {
    "ExecuteTime": {
     "end_time": "2019-08-19T08:58:54.359351Z",
     "start_time": "2019-08-19T08:58:54.333248Z"
    }
   },
   "outputs": [
    {
     "data": {
      "text/plain": [
       "SVC(C=1000, cache_size=200, class_weight=None, coef0=0.0,\n",
       "    decision_function_shape='ovr', degree=3, gamma=1.0, kernel='rbf',\n",
       "    max_iter=-1, probability=False, random_state=None, shrinking=True,\n",
       "    tol=0.001, verbose=False)"
      ]
     },
     "execution_count": 186,
     "metadata": {},
     "output_type": "execute_result"
    }
   ],
   "source": [
    "grid.best_estimator_"
   ]
  },
  {
   "cell_type": "code",
   "execution_count": 187,
   "metadata": {
    "ExecuteTime": {
     "end_time": "2019-08-19T08:58:54.427669Z",
     "start_time": "2019-08-19T08:58:54.380246Z"
    }
   },
   "outputs": [],
   "source": [
    "y_pred = grid.predict(X_test)"
   ]
  },
  {
   "cell_type": "code",
   "execution_count": 188,
   "metadata": {
    "ExecuteTime": {
     "end_time": "2019-08-19T08:58:54.934440Z",
     "start_time": "2019-08-19T08:58:54.430615Z"
    }
   },
   "outputs": [
    {
     "name": "stdout",
     "output_type": "stream",
     "text": [
      "              precision    recall  f1-score   support\n",
      "\n",
      "           1       0.82      0.86      0.84        87\n",
      "           2       0.82      0.80      0.81       199\n",
      "           3       0.85      0.87      0.86       373\n",
      "           4       0.84      0.83      0.84       289\n",
      "           5       0.85      0.82      0.84        97\n",
      "\n",
      "    accuracy                           0.84      1045\n",
      "   macro avg       0.84      0.84      0.84      1045\n",
      "weighted avg       0.84      0.84      0.84      1045\n",
      "\n",
      "[[ 75  12   0   0   0]\n",
      " [ 17 159  23   0   0]\n",
      " [  0  21 324  28   0]\n",
      " [  0   1  34 240  14]\n",
      " [  0   0   0  17  80]]\n"
     ]
    },
    {
     "data": {
      "image/png": "[encoded data removed]",
      "text/plain": [
       "<Figure size 432x288 with 2 Axes>"
      ]
     },
     "metadata": {
      "needs_background": "light"
     },
     "output_type": "display_data"
    }
   ],
   "source": [
    "sns.heatmap(data=confusion_matrix(y_test, y_pred),\n",
    "           square=True,\n",
    "           annot=True,\n",
    "           fmt='d')\n",
    "print(classification_report(y_test, y_pred))\n",
    "print(confusion_matrix(y_test, y_pred))"
   ]
  },
  {
   "cell_type": "markdown",
   "metadata": {},
   "source": [
    "### Ingredients paws\n",
    "Now it's time to study and try to estimate the ingredients score\n",
    "Starting from my initial clean data frame:"
   ]
  },
  {
   "cell_type": "code",
   "execution_count": 190,
   "metadata": {},
   "outputs": [
    {
     "data": {
      "text/html": [
       "<div>\n",
       "<style scoped>\n",
       "    .dataframe tbody tr th:only-of-type {\n",
       "        vertical-align: middle;\n",
       "    }\n",
       "\n",
       "    .dataframe tbody tr th {\n",
       "        vertical-align: top;\n",
       "    }\n",
       "\n",
       "    .dataframe thead th {\n",
       "        text-align: right;\n",
       "    }\n",
       "</style>\n",
       "<table border=\"1\" class=\"dataframe\">\n",
       "  <thead>\n",
       "    <tr style=\"text-align: right;\">\n",
       "      <th></th>\n",
       "      <th>brand</th>\n",
       "      <th>dma_ash</th>\n",
       "      <th>dma_cals</th>\n",
       "      <th>dma_carbs</th>\n",
       "      <th>dma_fat</th>\n",
       "      <th>dma_fiber</th>\n",
       "      <th>dma_prot</th>\n",
       "      <th>ga_moist</th>\n",
       "      <th>ingredients</th>\n",
       "      <th>ingredients_paws</th>\n",
       "      <th>name</th>\n",
       "      <th>nutrition_paws</th>\n",
       "      <th>potential_allergens</th>\n",
       "      <th>quality_ingredients</th>\n",
       "      <th>questionable_ingredients</th>\n",
       "      <th>type</th>\n",
       "    </tr>\n",
       "  </thead>\n",
       "  <tbody>\n",
       "    <tr>\n",
       "      <td>0</td>\n",
       "      <td>1st choice</td>\n",
       "      <td>10.0</td>\n",
       "      <td>313.0</td>\n",
       "      <td>40.0</td>\n",
       "      <td>11.0</td>\n",
       "      <td>7.0</td>\n",
       "      <td>32.0</td>\n",
       "      <td>10.0</td>\n",
       "      <td>[Chicken, chicken meal, rice, pea protein, bro...</td>\n",
       "      <td>3</td>\n",
       "      <td>Weight Control</td>\n",
       "      <td>2</td>\n",
       "      <td>NaN</td>\n",
       "      <td>[chicken, chicken meal]</td>\n",
       "      <td>[rice, brown rice]</td>\n",
       "      <td>dry</td>\n",
       "    </tr>\n",
       "    <tr>\n",
       "      <td>1</td>\n",
       "      <td>bravo</td>\n",
       "      <td>0.0</td>\n",
       "      <td>87.0</td>\n",
       "      <td>11.0</td>\n",
       "      <td>31.0</td>\n",
       "      <td>6.0</td>\n",
       "      <td>53.0</td>\n",
       "      <td>82.0</td>\n",
       "      <td>[Turkey, turkey broth, vegetable broth, turkey...</td>\n",
       "      <td>4</td>\n",
       "      <td>Feline Cafe Turkey Fricassee</td>\n",
       "      <td>4</td>\n",
       "      <td>[dried eggs, salmon oil, dried green lipped mu...</td>\n",
       "      <td>[turkey, turkey heart, turkey liver]</td>\n",
       "      <td>NaN</td>\n",
       "      <td>wet</td>\n",
       "    </tr>\n",
       "    <tr>\n",
       "      <td>2</td>\n",
       "      <td>boreal</td>\n",
       "      <td>8.0</td>\n",
       "      <td>352.0</td>\n",
       "      <td>36.0</td>\n",
       "      <td>17.0</td>\n",
       "      <td>4.0</td>\n",
       "      <td>36.0</td>\n",
       "      <td>10.0</td>\n",
       "      <td>[Chicken Meal, Brown Rice, Oat Meal, Pearled B...</td>\n",
       "      <td>2</td>\n",
       "      <td>Proper Chicken Meal</td>\n",
       "      <td>2</td>\n",
       "      <td>[herring meal]</td>\n",
       "      <td>[chicken meal, herring meal]</td>\n",
       "      <td>[brown rice]</td>\n",
       "      <td>dry</td>\n",
       "    </tr>\n",
       "    <tr>\n",
       "      <td>3</td>\n",
       "      <td>blue seal</td>\n",
       "      <td>0.0</td>\n",
       "      <td>356.0</td>\n",
       "      <td>50.0</td>\n",
       "      <td>12.0</td>\n",
       "      <td>4.0</td>\n",
       "      <td>33.0</td>\n",
       "      <td>10.0</td>\n",
       "      <td>[Poultry By-product Meal, Ground Corn, Ground ...</td>\n",
       "      <td>1</td>\n",
       "      <td>Kat Krunchies</td>\n",
       "      <td>1</td>\n",
       "      <td>[ground corn, corn gluten meal]</td>\n",
       "      <td>NaN</td>\n",
       "      <td>[poultry by-product meal, ground corn, ground ...</td>\n",
       "      <td>dry</td>\n",
       "    </tr>\n",
       "    <tr>\n",
       "      <td>4</td>\n",
       "      <td>best breed</td>\n",
       "      <td>9.0</td>\n",
       "      <td>348.0</td>\n",
       "      <td>22.0</td>\n",
       "      <td>19.0</td>\n",
       "      <td>8.0</td>\n",
       "      <td>42.0</td>\n",
       "      <td>10.0</td>\n",
       "      <td>[Chicken Meal, Egg Product, Chicken Fat (Prese...</td>\n",
       "      <td>4</td>\n",
       "      <td>Grain Free Cat Diet</td>\n",
       "      <td>3</td>\n",
       "      <td>[egg product, whitefish meal, fish oil]</td>\n",
       "      <td>[chicken meal, whitefish meal]</td>\n",
       "      <td>NaN</td>\n",
       "      <td>dry</td>\n",
       "    </tr>\n",
       "  </tbody>\n",
       "</table>\n",
       "</div>"
      ],
      "text/plain": [
       "        brand  dma_ash  dma_cals  dma_carbs  dma_fat  dma_fiber  dma_prot  \\\n",
       "0  1st choice     10.0     313.0       40.0     11.0        7.0      32.0   \n",
       "1       bravo      0.0      87.0       11.0     31.0        6.0      53.0   \n",
       "2      boreal      8.0     352.0       36.0     17.0        4.0      36.0   \n",
       "3   blue seal      0.0     356.0       50.0     12.0        4.0      33.0   \n",
       "4  best breed      9.0     348.0       22.0     19.0        8.0      42.0   \n",
       "\n",
       "   ga_moist                                        ingredients  \\\n",
       "0      10.0  [Chicken, chicken meal, rice, pea protein, bro...   \n",
       "1      82.0  [Turkey, turkey broth, vegetable broth, turkey...   \n",
       "2      10.0  [Chicken Meal, Brown Rice, Oat Meal, Pearled B...   \n",
       "3      10.0  [Poultry By-product Meal, Ground Corn, Ground ...   \n",
       "4      10.0  [Chicken Meal, Egg Product, Chicken Fat (Prese...   \n",
       "\n",
       "   ingredients_paws                          name  nutrition_paws  \\\n",
       "0                 3                Weight Control               2   \n",
       "1                 4  Feline Cafe Turkey Fricassee               4   \n",
       "2                 2           Proper Chicken Meal               2   \n",
       "3                 1                 Kat Krunchies               1   \n",
       "4                 4           Grain Free Cat Diet               3   \n",
       "\n",
       "                                 potential_allergens  \\\n",
       "0                                                NaN   \n",
       "1  [dried eggs, salmon oil, dried green lipped mu...   \n",
       "2                                     [herring meal]   \n",
       "3                    [ground corn, corn gluten meal]   \n",
       "4            [egg product, whitefish meal, fish oil]   \n",
       "\n",
       "                    quality_ingredients  \\\n",
       "0               [chicken, chicken meal]   \n",
       "1  [turkey, turkey heart, turkey liver]   \n",
       "2          [chicken meal, herring meal]   \n",
       "3                                   NaN   \n",
       "4        [chicken meal, whitefish meal]   \n",
       "\n",
       "                            questionable_ingredients type  \n",
       "0                                 [rice, brown rice]  dry  \n",
       "1                                                NaN  wet  \n",
       "2                                       [brown rice]  dry  \n",
       "3  [poultry by-product meal, ground corn, ground ...  dry  \n",
       "4                                                NaN  dry  "
      ]
     },
     "execution_count": 190,
     "metadata": {},
     "output_type": "execute_result"
    }
   ],
   "source": [
    "df.head()"
   ]
  },
  {
   "cell_type": "code",
   "execution_count": 191,
   "metadata": {},
   "outputs": [],
   "source": [
    "i_paws_preds = ['ingredients', 'quality_ingredients', 'questionable_ingredients', 'potential_allergens', 'dma_fat']\n",
    "i_paws_df = df[i_paws_preds]\n",
    "i_paws_df = pd.concat([n_paws_df, df['nutrition_paws']], axis=1)\n",
    "i_paws_df.head()"
   ]
  }
 ],
 "metadata": {
  "kernelspec": {
   "display_name": "Python 3",
   "language": "python",
   "name": "python3"
  },
  "language_info": {
   "codemirror_mode": {
    "name": "ipython",
    "version": 3
   },
   "file_extension": ".py",
   "mimetype": "text/x-python",
   "name": "python",
   "nbconvert_exporter": "python",
   "pygments_lexer": "ipython3",
   "version": "3.7.3"
  }
 },
 "nbformat": 4,
 "nbformat_minor": 4
}
