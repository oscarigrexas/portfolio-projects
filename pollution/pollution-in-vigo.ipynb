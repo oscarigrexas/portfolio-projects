{
 "cells": [
  {
   "cell_type": "markdown",
   "metadata": {},
   "source": [
    "# Pollution in Vigo during the coronavirus outbreak\n",
    "It has been reported that the state of lockdown and decreased traffic due to the coronavirus outbreak has improved the pollution situation in many big cities such as Beijing, Tokio, Madrid, Barcelona... Is this also true for my own (way smaller) city? Let's find out!"
   ]
  },
  {
   "cell_type": "code",
   "execution_count": 275,
   "metadata": {},
   "outputs": [],
   "source": [
    "import requests\n",
    "import json\n",
    "import numpy as np\n",
    "import pandas as pd\n",
    "import matplotlib.pyplot as plt\n",
    "import seaborn as sns\n",
    "from os import walk\n",
    "from datetime import date, timedelta\n",
    "\n",
    "sns.set_style('whitegrid')"
   ]
  },
  {
   "cell_type": "markdown",
   "metadata": {},
   "source": [
    "After looking into meteogalicia's documentation, I found out that their air contamination data could be accessed by sending requests to one of their JSON files passing it certain parameters. One of those parameters was the date (which must have a certain format) so I created a list of properly formatted dates to be able to easily use them later.\n",
    "\n",
    "I wanted to get all of the daily information since the start of 2017 to have at least three years to compare 2020 with."
   ]
  },
  {
   "cell_type": "code",
   "execution_count": 276,
   "metadata": {},
   "outputs": [
    {
     "data": {
      "text/plain": [
       "['01/01/2017', '02/01/2017', '03/01/2017', '04/01/2017', '05/01/2017']"
      ]
     },
     "execution_count": 276,
     "metadata": {},
     "output_type": "execute_result"
    }
   ],
   "source": [
    "sdate = date(2017, 1, 1)   # start date\n",
    "edate = date.today()       # end date\n",
    "\n",
    "delta = edate - sdate      # as timedelta\n",
    "\n",
    "date_list = []\n",
    "for i in range(delta.days + 1):\n",
    "    day = sdate + timedelta(days=i)\n",
    "    date_list.append(day.strftime(\"%d/%m/%Y\"))\n",
    "    \n",
    "date_list[:5]"
   ]
  },
  {
   "cell_type": "markdown",
   "metadata": {},
   "source": [
    "Using this list of dates and setting the ```idZona``` parameter to 7, which is Vigo's code, we can get all of the JSON content that we're looking for as individual JSON objects (on for each day) and put them in a list."
   ]
  },
  {
   "cell_type": "code",
   "execution_count": 3,
   "metadata": {},
   "outputs": [],
   "source": [
    "json_list = []\n",
    "for day in date_list:\n",
    "    payload = {'idZona':'7',\n",
    "               'data':day}\n",
    "    r = requests.get('http://servizos.meteogalicia.es/rss/observacion/listaEstacionsCA.action',\n",
    "                 params=payload)\n",
    "    json_list.append(r.json())"
   ]
  },
  {
   "cell_type": "markdown",
   "metadata": {},
   "source": [
    "Since I haven't found any other way to do it, this implies making more than 1000 GET requests to poor meteogalicia's JSON, so to avoid running this part more than necessary, I define a pair of functions to save all of the JSON files locally and load them when needed."
   ]
  },
  {
   "cell_type": "code",
   "execution_count": 3,
   "metadata": {},
   "outputs": [],
   "source": [
    "def save_json_list(json_list):\n",
    "    for i, json_file in enumerate(json_list):\n",
    "        fecha = json_file['datosZona'][0]['fecha']\n",
    "        formatted_fecha = pd.to_datetime(fecha, dayfirst=True).date()\n",
    "        filename = \"./jsons/dia_{}.json\".format(formatted_fecha)\n",
    "        with open(filename, 'w') as open_file:\n",
    "            json.dump(json_file, open_file)\n",
    "            \n",
    "def rebuild_json_list():\n",
    "    mypath = \"./jsons/\"\n",
    "\n",
    "    f = []\n",
    "    for (dirpath, dirnames, filenames) in walk(mypath):\n",
    "        f.extend(filenames)\n",
    "        break\n",
    "\n",
    "    json_list = []\n",
    "    for filename in sorted(f):\n",
    "        with open(mypath + filename, 'r') as open_file:\n",
    "            json_list.append(json.load(open_file))\n",
    "    print(\n",
    "    return json_list"
   ]
  },
  {
   "cell_type": "code",
   "execution_count": 4,
   "metadata": {},
   "outputs": [],
   "source": [
    "json_list = rebuild_json_list()"
   ]
  },
  {
   "cell_type": "markdown",
   "metadata": {},
   "source": [
    "All set! Let's start looking into how the JSON files are structured and how can we get to the data that interests us."
   ]
  },
  {
   "cell_type": "code",
   "execution_count": 272,
   "metadata": {
    "scrolled": true
   },
   "outputs": [
    {
     "data": {
      "text/plain": [
       "{'fecha': '01/01/2017',\n",
       " 'hora': '13:00',\n",
       " 'icas': [{'calculo': 'H',\n",
       "   'estacion': 'Vigo - Coia',\n",
       "   'fecha': '01/01/2017',\n",
       "   'hora': '13:00',\n",
       "   'parametro': 'SO2',\n",
       "   'textoValor': 'Boa',\n",
       "   'valor': '0',\n",
       "   'valorIca': '0.01'},\n",
       "  {'calculo': 'O',\n",
       "   'estacion': 'Vigo - Coia',\n",
       "   'fecha': '01/01/2017',\n",
       "   'hora': '13:00',\n",
       "   'parametro': 'CO',\n",
       "   'textoValor': 'Boa',\n",
       "   'valor': '0',\n",
       "   'valorIca': '0.028'},\n",
       "  {'calculo': 'H',\n",
       "   'estacion': 'Vigo - Coia',\n",
       "   'fecha': '01/01/2017',\n",
       "   'hora': '13:00',\n",
       "   'parametro': 'NO2',\n",
       "   'textoValor': 'Boa',\n",
       "   'valor': '0',\n",
       "   'valorIca': '0.19'},\n",
       "  {'calculo': 'H',\n",
       "   'estacion': 'Vigo - Coia',\n",
       "   'fecha': '01/01/2017',\n",
       "   'hora': '13:00',\n",
       "   'parametro': 'PM10',\n",
       "   'textoValor': 'Boa',\n",
       "   'valor': '0',\n",
       "   'valorIca': '0.36'},\n",
       "  {'calculo': 'H',\n",
       "   'estacion': 'Vigo - Coia',\n",
       "   'fecha': '01/01/2017',\n",
       "   'hora': '13:00',\n",
       "   'parametro': 'O3',\n",
       "   'textoValor': 'Boa',\n",
       "   'valor': '0',\n",
       "   'valorIca': '0.17'},\n",
       "  {'calculo': 'H',\n",
       "   'estacion': 'Vigo - Lope de Vega',\n",
       "   'fecha': '01/01/2017',\n",
       "   'hora': '13:00',\n",
       "   'parametro': 'SO2',\n",
       "   'textoValor': 'Boa',\n",
       "   'valor': '0',\n",
       "   'valorIca': '0.0'},\n",
       "  {'calculo': 'O',\n",
       "   'estacion': 'Vigo - Lope de Vega',\n",
       "   'fecha': '01/01/2017',\n",
       "   'hora': '13:00',\n",
       "   'parametro': 'CO',\n",
       "   'textoValor': 'Boa',\n",
       "   'valor': '0',\n",
       "   'valorIca': '0.039'},\n",
       "  {'calculo': 'H',\n",
       "   'estacion': 'Vigo - Lope de Vega',\n",
       "   'fecha': '01/01/2017',\n",
       "   'hora': '13:00',\n",
       "   'parametro': 'NO2',\n",
       "   'textoValor': 'Boa',\n",
       "   'valor': '0',\n",
       "   'valorIca': '0.27'},\n",
       "  {'calculo': 'H',\n",
       "   'estacion': 'Vigo - Lope de Vega',\n",
       "   'fecha': '01/01/2017',\n",
       "   'hora': '13:00',\n",
       "   'parametro': 'PM10',\n",
       "   'textoValor': 'Boa',\n",
       "   'valor': '0',\n",
       "   'valorIca': '0.24'},\n",
       "  {'calculo': 'H',\n",
       "   'estacion': 'Vigo - Lope de Vega',\n",
       "   'fecha': '01/01/2017',\n",
       "   'hora': '13:00',\n",
       "   'parametro': 'O3',\n",
       "   'textoValor': 'Boa',\n",
       "   'valor': '0',\n",
       "   'valorIca': '0.16'}],\n",
       " 'idZona': '7',\n",
       " 'lat': '42.219002',\n",
       " 'lon': '-8.742058',\n",
       " 'textoValor': 'Boa',\n",
       " 'valor': '0',\n",
       " 'valorIca': '0.36',\n",
       " 'zona': 'Vigo'}"
      ]
     },
     "execution_count": 272,
     "metadata": {},
     "output_type": "execute_result"
    }
   ],
   "source": [
    "json_list[0]['datosZona'][0]"
   ]
  },
  {
   "cell_type": "markdown",
   "metadata": {},
   "source": [
    "It looks like each element inside 'datosZona' corresponds to an hour of the day, and that each hour of the day has measurements for all of the studied gases at the two stations in Vigo (Coia and Lope de Vega, which I will abreviate as _c_ and _ldv_, respectively)"
   ]
  },
  {
   "cell_type": "code",
   "execution_count": 32,
   "metadata": {},
   "outputs": [
    {
     "name": "stdout",
     "output_type": "stream",
     "text": [
      "Total days: 1176\n",
      "Entries per day: 25\n",
      "\n"
     ]
    }
   ],
   "source": [
    "print(\"Total days: {}\\n\"\n",
    "      \"Entries per day: {}\\n\".format(len(json_list), len(json_list[0]['datosZona'])))"
   ]
  },
  {
   "cell_type": "markdown",
   "metadata": {},
   "source": [
    "What hours of the day correspond to these 25 entries? Shouldn't they be just 24?"
   ]
  },
  {
   "cell_type": "code",
   "execution_count": 25,
   "metadata": {},
   "outputs": [
    {
     "name": "stdout",
     "output_type": "stream",
     "text": [
      "['13:00', '12:00', '11:00', '10:00', '09:00', '08:00', '07:00', '06:00', '05:00', '04:00', '03:00', '02:00', '01:00', '00:00', '23:00', '22:00', '21:00', '20:00', '19:00', '18:00', '17:00', '16:00', '15:00', '14:00', '13:00']\n",
      "28/10/2017\n",
      "27/10/2017\n"
     ]
    }
   ],
   "source": [
    "hours = []\n",
    "for hour in json_list[300]['datosZona']:\n",
    "    hours.append(hour['hora'])\n",
    "print(hours)\n",
    "\n",
    "print(json_list[300]['datosZona'][0]['fecha'])\n",
    "print(json_list[300]['datosZona'][-1]['fecha'])"
   ]
  },
  {
   "cell_type": "markdown",
   "metadata": {},
   "source": [
    "Aha! Looks like that last measurement is taken at 13:00, just as the first one, but it must have something diferent. If we look further into it, we can see that it actually corresponds to the previous day!\n",
    "We will exclude it from now on.\n",
    "\n",
    "Now let's take a look at what the measurements represent."
   ]
  },
  {
   "cell_type": "code",
   "execution_count": 29,
   "metadata": {},
   "outputs": [
    {
     "name": "stdout",
     "output_type": "stream",
     "text": [
      "{'calculo': 'H', 'estacion': 'Vigo - Coia', 'fecha': '01/01/2017', 'hora': '13:00', 'parametro': 'SO2', 'textoValor': 'Boa', 'valor': '0', 'valorIca': '0.01'}\n",
      "\n",
      "Vigo - Coia SO2 0.01\n",
      "Vigo - Coia CO 0.028\n",
      "Vigo - Coia NO2 0.19\n",
      "Vigo - Coia PM10 0.36\n",
      "Vigo - Coia O3 0.17\n",
      "Vigo - Lope de Vega SO2 0.0\n",
      "Vigo - Lope de Vega CO 0.039\n",
      "Vigo - Lope de Vega NO2 0.27\n",
      "Vigo - Lope de Vega PM10 0.24\n",
      "Vigo - Lope de Vega O3 0.16\n"
     ]
    }
   ],
   "source": [
    "print(json_list[0]['datosZona'][0]['icas'][0])\n",
    "print()\n",
    "\n",
    "for ica in json_list[0]['datosZona'][0]['icas']:\n",
    "    print(ica['estacion'], ica['parametro'], ica['valorIca'])"
   ]
  },
  {
   "cell_type": "markdown",
   "metadata": {},
   "source": [
    "It looks like each hour element includes 10 measurements, 5 for each of Vigo's two stations, representing 5 different pollutants.\n",
    "\n",
    "Let's check if this is consistent in all of the entries!"
   ]
  },
  {
   "cell_type": "code",
   "execution_count": 279,
   "metadata": {},
   "outputs": [
    {
     "name": "stdout",
     "output_type": "stream",
     "text": [
      "Hour 04:00 of day 26/03/2017 has 16 measurements\n",
      "Hour 13:00 of day 06/05/2017 has 5 measurements\n",
      "Hour 12:00 of day 06/05/2017 has 6 measurements\n",
      "Hour 11:00 of day 06/05/2017 has 6 measurements\n",
      "Hour 10:00 of day 06/05/2017 has 6 measurements\n",
      "Hour 09:00 of day 06/05/2017 has 6 measurements\n",
      "Hour 08:00 of day 06/05/2017 has 6 measurements\n",
      "Hour 07:00 of day 06/05/2017 has 6 measurements\n",
      "Hour 06:00 of day 06/05/2017 has 6 measurements\n",
      "Hour 13:00 of day 07/05/2017 has 5 measurements\n",
      "...\n",
      "From a total of 482 hours that have a number of measurements different than 10\n"
     ]
    }
   ],
   "source": [
    "print_list = []\n",
    "\n",
    "for day in json_list:\n",
    "    for hour in day['datosZona'][:-1]:\n",
    "        if len(hour['icas']) == 10:\n",
    "            pass\n",
    "        else:\n",
    "            print_list.append(\"Hour {} of day {} has {} measurements\".format(hour['hora'], hour['fecha'], len(hour['icas'])))\n",
    "\n",
    "for line in print_list[:10]:\n",
    "    print(line)\n",
    "print(\"...\")\n",
    "print(\"From a total of {} hours that have a number of measurements different than 10\".format(len(print_list)))"
   ]
  },
  {
   "cell_type": "markdown",
   "metadata": {},
   "source": [
    "Well... It looks like quite a number of entries have either fewer or more measurements than the expected 10. Therefore, we should be able to handle missing values.\n",
    "\n",
    "Right now, I'm interested in getting a single value for each of the different pollutants for each day. I decided to use each day's maximum value as a representative, because it should correspond to the moment of the day with the highest volume of traffic and gas emissions, and that's what I'm trying to study.\n",
    "\n",
    "Let's define a function to extract the 10 measurements from each hour, and another one to aggregate them and return a single value for each gas in each station and day."
   ]
  },
  {
   "cell_type": "code",
   "execution_count": 195,
   "metadata": {},
   "outputs": [
    {
     "data": {
      "text/plain": [
       "array([0.011, 0.048, 0.24 , 0.2  , 0.55 , 0.01 , 0.015, 0.35 , 0.17 ,\n",
       "       0.65 ])"
      ]
     },
     "execution_count": 195,
     "metadata": {},
     "output_type": "execute_result"
    }
   ],
   "source": [
    "def read_hour(hour):\n",
    "    meas_dict = {\n",
    "        ('Vigo - Coia', 'SO2'):'SO2_c',\n",
    "        ('Vigo - Coia', 'CO'):'CO_c',\n",
    "        ('Vigo - Coia', 'NO2'):'NO2_c',\n",
    "        ('Vigo - Coia', 'PM10'):'PM10_c',\n",
    "        ('Vigo - Coia', 'O3'):'O3_c',\n",
    "        ('Vigo - Lope de Vega', 'SO2'):'SO2_ldv',\n",
    "        ('Vigo - Lope de Vega', 'CO'):'CO_ldv',\n",
    "        ('Vigo - Lope de Vega', 'NO2'):'NO2_ldv',\n",
    "        ('Vigo - Lope de Vega', 'PM10'):'PM10_ldv',\n",
    "        ('Vigo - Lope de Vega', 'O3'):'O3_ldv'\n",
    "    }\n",
    "    values_dict = {}\n",
    "    for key, value in meas_dict.items():\n",
    "        values_dict[value] = 0 # Fills the spaces in the dictionary with zeros. If any measurement is missing, its spot in the dictionary just stays 0\n",
    "    for ica in hour['icas']:\n",
    "        if float(ica['valorIca']) > 0:\n",
    "            values_dict[meas_dict[(ica['estacion'], ica['parametro'])]] = float(ica['valorIca']) # If there's any duplicate measurement, it just gets\n",
    "                                                                                                 # assigned many times to a single dictionary key\n",
    "        else:\n",
    "            pass\n",
    "    return values_dict\n",
    "        \n",
    "def read_day(day):\n",
    "    value_list = []\n",
    "    for hour in day[:-1]:\n",
    "        values = [value for key, value in read_hour(hour).items()]\n",
    "        value_list.append(values)\n",
    "    try:\n",
    "        return np.max(np.array(value_list), axis=0) # The aggregate value is the maximum in that day\n",
    "    except TypeError:\n",
    "        return value_list\n",
    "\n",
    "read_day(json_list[84]['datosZona'])"
   ]
  },
  {
   "cell_type": "markdown",
   "metadata": {},
   "source": [
    "A little test to check if the new functions trigger any errors in any particular day:"
   ]
  },
  {
   "cell_type": "code",
   "execution_count": 197,
   "metadata": {},
   "outputs": [],
   "source": [
    "for i, day in enumerate(json_list):\n",
    "    try:\n",
    "        read_day(day['datosZona'])\n",
    "    except:\n",
    "        print(i)"
   ]
  },
  {
   "cell_type": "markdown",
   "metadata": {},
   "source": [
    "And now, we're finally able to group all this information and create a tidy and convenient data frame!"
   ]
  },
  {
   "cell_type": "code",
   "execution_count": 241,
   "metadata": {},
   "outputs": [
    {
     "data": {
      "text/html": [
       "<div>\n",
       "<style scoped>\n",
       "    .dataframe tbody tr th:only-of-type {\n",
       "        vertical-align: middle;\n",
       "    }\n",
       "\n",
       "    .dataframe tbody tr th {\n",
       "        vertical-align: top;\n",
       "    }\n",
       "\n",
       "    .dataframe thead th {\n",
       "        text-align: right;\n",
       "    }\n",
       "</style>\n",
       "<table border=\"1\" class=\"dataframe\">\n",
       "  <thead>\n",
       "    <tr style=\"text-align: right;\">\n",
       "      <th></th>\n",
       "      <th>SO2_c</th>\n",
       "      <th>CO_c</th>\n",
       "      <th>NO2_c</th>\n",
       "      <th>PM10_c</th>\n",
       "      <th>O3_c</th>\n",
       "      <th>SO2_ldv</th>\n",
       "      <th>CO_ldv</th>\n",
       "      <th>NO2_ldv</th>\n",
       "      <th>PM10_ldv</th>\n",
       "      <th>O3_ldv</th>\n",
       "    </tr>\n",
       "    <tr>\n",
       "      <th>data</th>\n",
       "      <th></th>\n",
       "      <th></th>\n",
       "      <th></th>\n",
       "      <th></th>\n",
       "      <th></th>\n",
       "      <th></th>\n",
       "      <th></th>\n",
       "      <th></th>\n",
       "      <th></th>\n",
       "      <th></th>\n",
       "    </tr>\n",
       "  </thead>\n",
       "  <tbody>\n",
       "    <tr>\n",
       "      <th>2017-01-01</th>\n",
       "      <td>0.027</td>\n",
       "      <td>0.093</td>\n",
       "      <td>0.59</td>\n",
       "      <td>3.00</td>\n",
       "      <td>0.37</td>\n",
       "      <td>0.0</td>\n",
       "      <td>0.039</td>\n",
       "      <td>0.27</td>\n",
       "      <td>1.10</td>\n",
       "      <td>0.16</td>\n",
       "    </tr>\n",
       "    <tr>\n",
       "      <th>2017-01-02</th>\n",
       "      <td>0.016</td>\n",
       "      <td>0.036</td>\n",
       "      <td>0.40</td>\n",
       "      <td>0.44</td>\n",
       "      <td>0.39</td>\n",
       "      <td>0.0</td>\n",
       "      <td>0.039</td>\n",
       "      <td>0.27</td>\n",
       "      <td>0.36</td>\n",
       "      <td>0.19</td>\n",
       "    </tr>\n",
       "    <tr>\n",
       "      <th>2017-01-03</th>\n",
       "      <td>0.011</td>\n",
       "      <td>0.015</td>\n",
       "      <td>0.37</td>\n",
       "      <td>0.23</td>\n",
       "      <td>0.45</td>\n",
       "      <td>0.0</td>\n",
       "      <td>0.039</td>\n",
       "      <td>0.35</td>\n",
       "      <td>0.15</td>\n",
       "      <td>0.47</td>\n",
       "    </tr>\n",
       "    <tr>\n",
       "      <th>2017-01-04</th>\n",
       "      <td>0.016</td>\n",
       "      <td>0.021</td>\n",
       "      <td>0.44</td>\n",
       "      <td>0.25</td>\n",
       "      <td>0.29</td>\n",
       "      <td>0.0</td>\n",
       "      <td>0.053</td>\n",
       "      <td>0.45</td>\n",
       "      <td>0.23</td>\n",
       "      <td>0.31</td>\n",
       "    </tr>\n",
       "    <tr>\n",
       "      <th>2017-01-05</th>\n",
       "      <td>0.017</td>\n",
       "      <td>0.048</td>\n",
       "      <td>0.47</td>\n",
       "      <td>0.33</td>\n",
       "      <td>0.16</td>\n",
       "      <td>0.0</td>\n",
       "      <td>0.061</td>\n",
       "      <td>0.33</td>\n",
       "      <td>0.31</td>\n",
       "      <td>0.23</td>\n",
       "    </tr>\n",
       "  </tbody>\n",
       "</table>\n",
       "</div>"
      ],
      "text/plain": [
       "            SO2_c   CO_c  NO2_c  PM10_c  O3_c  SO2_ldv  CO_ldv  NO2_ldv  \\\n",
       "data                                                                      \n",
       "2017-01-01  0.027  0.093   0.59    3.00  0.37      0.0   0.039     0.27   \n",
       "2017-01-02  0.016  0.036   0.40    0.44  0.39      0.0   0.039     0.27   \n",
       "2017-01-03  0.011  0.015   0.37    0.23  0.45      0.0   0.039     0.35   \n",
       "2017-01-04  0.016  0.021   0.44    0.25  0.29      0.0   0.053     0.45   \n",
       "2017-01-05  0.017  0.048   0.47    0.33  0.16      0.0   0.061     0.33   \n",
       "\n",
       "            PM10_ldv  O3_ldv  \n",
       "data                          \n",
       "2017-01-01      1.10    0.16  \n",
       "2017-01-02      0.36    0.19  \n",
       "2017-01-03      0.15    0.47  \n",
       "2017-01-04      0.23    0.31  \n",
       "2017-01-05      0.31    0.23  "
      ]
     },
     "execution_count": 241,
     "metadata": {},
     "output_type": "execute_result"
    }
   ],
   "source": [
    "raw_data = []\n",
    "dates = []\n",
    "for i, day in enumerate(json_list):\n",
    "    try:\n",
    "        row = read_day(day['datosZona'])\n",
    "        raw_data.append(row)\n",
    "        dates.append(json_list[i]['datosZona'][0]['fecha'])\n",
    "    except TypeError:\n",
    "        print(\"{} failed\".format(i))\n",
    "    \n",
    "df = pd.DataFrame(raw_data,\n",
    "                  columns=[\n",
    "                     'SO2_c',\n",
    "                     'CO_c',\n",
    "                     'NO2_c',\n",
    "                     'PM10_c',\n",
    "                     'O3_c',\n",
    "                     'SO2_ldv',\n",
    "                     'CO_ldv',\n",
    "                     'NO2_ldv',\n",
    "                     'PM10_ldv',\n",
    "                     'O3_ldv',\n",
    "                     ],\n",
    "                    dtype='float')\n",
    "df.insert(0, 'data', pd.to_datetime(dates, dayfirst=True)) # Convert the date column (str type) to pd.datetime type\n",
    "df.index = df['data'] # Set the date column as a datetime index\n",
    "df.drop('data', axis=1, inplace=True)\n",
    "df.head()"
   ]
  },
  {
   "cell_type": "code",
   "execution_count": 242,
   "metadata": {},
   "outputs": [
    {
     "name": "stdout",
     "output_type": "stream",
     "text": [
      "<class 'pandas.core.frame.DataFrame'>\n",
      "DatetimeIndex: 1176 entries, 2017-01-01 to 2020-03-21\n",
      "Data columns (total 10 columns):\n",
      " #   Column    Non-Null Count  Dtype  \n",
      "---  ------    --------------  -----  \n",
      " 0   SO2_c     1176 non-null   float64\n",
      " 1   CO_c      1176 non-null   float64\n",
      " 2   NO2_c     1176 non-null   float64\n",
      " 3   PM10_c    1176 non-null   float64\n",
      " 4   O3_c      1176 non-null   float64\n",
      " 5   SO2_ldv   1176 non-null   float64\n",
      " 6   CO_ldv    1176 non-null   float64\n",
      " 7   NO2_ldv   1176 non-null   float64\n",
      " 8   PM10_ldv  1176 non-null   float64\n",
      " 9   O3_ldv    1176 non-null   float64\n",
      "dtypes: float64(10)\n",
      "memory usage: 101.1 KB\n"
     ]
    }
   ],
   "source": [
    "df.info() # Check if all of the columns have an appropriate type"
   ]
  },
  {
   "cell_type": "markdown",
   "metadata": {},
   "source": [
    "It's time to start thinking about visualizations and graphs:"
   ]
  },
  {
   "cell_type": "markdown",
   "metadata": {},
   "source": [
    "First, let's see how the values of the measurements are distributed for each of the pollutants: are they really close together, is there a lot of variance, are there any outliers?"
   ]
  },
  {
   "cell_type": "code",
   "execution_count": 244,
   "metadata": {},
   "outputs": [
    {
     "data": {
      "image/png": "[encoded data removed]",
      "text/plain": [
       "<Figure size 864x576 with 1 Axes>"
      ]
     },
     "metadata": {},
     "output_type": "display_data"
    }
   ],
   "source": [
    "fig, ax = plt.subplots(figsize=(12,8))\n",
    "ax = sns.boxplot(data=df)"
   ]
  },
  {
   "cell_type": "markdown",
   "metadata": {},
   "source": [
    "Looking at the box plot it becomes apparent that, while most of the values are fairly concentrated around their median values, there are some outliers that lie quite far. These outliers might correspond to errors in the measurements (all of them are taken automatically so there probably aren't any human errors such as typos), or to certain infrequent peaks in the levels of those gases. Since I am trying to describe the general profile, it might be wise to remove them or replace them by average values.\n",
    "\n",
    "To be able to identify them, I define a simple measure of the dispersion: the interquartile range (IQR), which is equal to the difference between the 75th and 25 percentiles. Then, I set as NaN all of the values that lie either above the 75th percentile + 1.5 times the IQR, or below the 25th percentile minus 1.5 times the IQR."
   ]
  },
  {
   "cell_type": "code",
   "execution_count": 264,
   "metadata": {},
   "outputs": [
    {
     "name": "stdout",
     "output_type": "stream",
     "text": [
      "SO2_c       0.0170\n",
      "CO_c        0.0350\n",
      "NO2_c       0.2425\n",
      "PM10_c      0.1600\n",
      "O3_c        0.1900\n",
      "SO2_ldv     0.0210\n",
      "CO_ldv      0.0140\n",
      "NO2_ldv     0.1900\n",
      "PM10_ldv    0.1900\n",
      "O3_ldv      0.2000\n",
      "dtype: float64\n"
     ]
    },
    {
     "data": {
      "text/html": [
       "<div>\n",
       "<style scoped>\n",
       "    .dataframe tbody tr th:only-of-type {\n",
       "        vertical-align: middle;\n",
       "    }\n",
       "\n",
       "    .dataframe tbody tr th {\n",
       "        vertical-align: top;\n",
       "    }\n",
       "\n",
       "    .dataframe thead th {\n",
       "        text-align: right;\n",
       "    }\n",
       "</style>\n",
       "<table border=\"1\" class=\"dataframe\">\n",
       "  <thead>\n",
       "    <tr style=\"text-align: right;\">\n",
       "      <th></th>\n",
       "      <th>SO2_c</th>\n",
       "      <th>CO_c</th>\n",
       "      <th>NO2_c</th>\n",
       "      <th>PM10_c</th>\n",
       "      <th>O3_c</th>\n",
       "      <th>SO2_ldv</th>\n",
       "      <th>CO_ldv</th>\n",
       "      <th>NO2_ldv</th>\n",
       "      <th>PM10_ldv</th>\n",
       "      <th>O3_ldv</th>\n",
       "    </tr>\n",
       "    <tr>\n",
       "      <th>data</th>\n",
       "      <th></th>\n",
       "      <th></th>\n",
       "      <th></th>\n",
       "      <th></th>\n",
       "      <th></th>\n",
       "      <th></th>\n",
       "      <th></th>\n",
       "      <th></th>\n",
       "      <th></th>\n",
       "      <th></th>\n",
       "    </tr>\n",
       "  </thead>\n",
       "  <tbody>\n",
       "    <tr>\n",
       "      <th>2017-01-01</th>\n",
       "      <td>0.027</td>\n",
       "      <td>0.093</td>\n",
       "      <td>0.59</td>\n",
       "      <td>NaN</td>\n",
       "      <td>0.37</td>\n",
       "      <td>0.0</td>\n",
       "      <td>0.039</td>\n",
       "      <td>0.27</td>\n",
       "      <td>NaN</td>\n",
       "      <td>0.16</td>\n",
       "    </tr>\n",
       "    <tr>\n",
       "      <th>2017-01-02</th>\n",
       "      <td>0.016</td>\n",
       "      <td>0.036</td>\n",
       "      <td>0.40</td>\n",
       "      <td>0.44</td>\n",
       "      <td>0.39</td>\n",
       "      <td>0.0</td>\n",
       "      <td>0.039</td>\n",
       "      <td>0.27</td>\n",
       "      <td>0.36</td>\n",
       "      <td>0.19</td>\n",
       "    </tr>\n",
       "    <tr>\n",
       "      <th>2017-01-03</th>\n",
       "      <td>0.011</td>\n",
       "      <td>0.015</td>\n",
       "      <td>0.37</td>\n",
       "      <td>0.23</td>\n",
       "      <td>0.45</td>\n",
       "      <td>0.0</td>\n",
       "      <td>0.039</td>\n",
       "      <td>0.35</td>\n",
       "      <td>0.15</td>\n",
       "      <td>0.47</td>\n",
       "    </tr>\n",
       "    <tr>\n",
       "      <th>2017-01-04</th>\n",
       "      <td>0.016</td>\n",
       "      <td>0.021</td>\n",
       "      <td>0.44</td>\n",
       "      <td>0.25</td>\n",
       "      <td>0.29</td>\n",
       "      <td>0.0</td>\n",
       "      <td>NaN</td>\n",
       "      <td>0.45</td>\n",
       "      <td>0.23</td>\n",
       "      <td>0.31</td>\n",
       "    </tr>\n",
       "    <tr>\n",
       "      <th>2017-01-05</th>\n",
       "      <td>0.017</td>\n",
       "      <td>0.048</td>\n",
       "      <td>0.47</td>\n",
       "      <td>0.33</td>\n",
       "      <td>0.16</td>\n",
       "      <td>0.0</td>\n",
       "      <td>NaN</td>\n",
       "      <td>0.33</td>\n",
       "      <td>0.31</td>\n",
       "      <td>0.23</td>\n",
       "    </tr>\n",
       "  </tbody>\n",
       "</table>\n",
       "</div>"
      ],
      "text/plain": [
       "            SO2_c   CO_c  NO2_c  PM10_c  O3_c  SO2_ldv  CO_ldv  NO2_ldv  \\\n",
       "data                                                                      \n",
       "2017-01-01  0.027  0.093   0.59     NaN  0.37      0.0   0.039     0.27   \n",
       "2017-01-02  0.016  0.036   0.40    0.44  0.39      0.0   0.039     0.27   \n",
       "2017-01-03  0.011  0.015   0.37    0.23  0.45      0.0   0.039     0.35   \n",
       "2017-01-04  0.016  0.021   0.44    0.25  0.29      0.0     NaN     0.45   \n",
       "2017-01-05  0.017  0.048   0.47    0.33  0.16      0.0     NaN     0.33   \n",
       "\n",
       "            PM10_ldv  O3_ldv  \n",
       "data                          \n",
       "2017-01-01       NaN    0.16  \n",
       "2017-01-02      0.36    0.19  \n",
       "2017-01-03      0.15    0.47  \n",
       "2017-01-04      0.23    0.31  \n",
       "2017-01-05      0.31    0.23  "
      ]
     },
     "execution_count": 264,
     "metadata": {},
     "output_type": "execute_result"
    }
   ],
   "source": [
    "Q1 = df.quantile(0.25)\n",
    "Q3 = df.quantile(0.75)\n",
    "IQR = Q3 - Q1\n",
    "print(IQR)\n",
    "df[(df < (Q1 - 1.5 * IQR)) | (df > (Q3 + 1.5 * IQR))] = np.nan\n",
    "df.head()"
   ]
  },
  {
   "cell_type": "markdown",
   "metadata": {},
   "source": [
    "Let's take a qualitative look at how many outliers there were by representing the NaN values as a heatmap."
   ]
  },
  {
   "cell_type": "code",
   "execution_count": 247,
   "metadata": {},
   "outputs": [
    {
     "data": {
      "text/plain": [
       "<matplotlib.axes._subplots.AxesSubplot at 0x7ff2e6cb70a0>"
      ]
     },
     "execution_count": 247,
     "metadata": {},
     "output_type": "execute_result"
    },
    {
     "data": {
      "image/png": "[encoded data removed]",
      "text/plain": [
       "<Figure size 432x288 with 2 Axes>"
      ]
     },
     "metadata": {},
     "output_type": "display_data"
    }
   ],
   "source": [
    "sns.heatmap(pd.isnull(df))"
   ]
  },
  {
   "cell_type": "markdown",
   "metadata": {},
   "source": [
    "It looks like there aren't many missing values! Nice.\n",
    "\n",
    "Now, let's fill them out by using a time interpolation."
   ]
  },
  {
   "cell_type": "code",
   "execution_count": 253,
   "metadata": {},
   "outputs": [
    {
     "data": {
      "text/html": [
       "<div>\n",
       "<style scoped>\n",
       "    .dataframe tbody tr th:only-of-type {\n",
       "        vertical-align: middle;\n",
       "    }\n",
       "\n",
       "    .dataframe tbody tr th {\n",
       "        vertical-align: top;\n",
       "    }\n",
       "\n",
       "    .dataframe thead th {\n",
       "        text-align: right;\n",
       "    }\n",
       "</style>\n",
       "<table border=\"1\" class=\"dataframe\">\n",
       "  <thead>\n",
       "    <tr style=\"text-align: right;\">\n",
       "      <th></th>\n",
       "      <th>SO2_c</th>\n",
       "      <th>CO_c</th>\n",
       "      <th>NO2_c</th>\n",
       "      <th>PM10_c</th>\n",
       "      <th>O3_c</th>\n",
       "      <th>SO2_ldv</th>\n",
       "      <th>CO_ldv</th>\n",
       "      <th>NO2_ldv</th>\n",
       "      <th>PM10_ldv</th>\n",
       "      <th>O3_ldv</th>\n",
       "    </tr>\n",
       "    <tr>\n",
       "      <th>data</th>\n",
       "      <th></th>\n",
       "      <th></th>\n",
       "      <th></th>\n",
       "      <th></th>\n",
       "      <th></th>\n",
       "      <th></th>\n",
       "      <th></th>\n",
       "      <th></th>\n",
       "      <th></th>\n",
       "      <th></th>\n",
       "    </tr>\n",
       "  </thead>\n",
       "  <tbody>\n",
       "    <tr>\n",
       "      <th>2017-01-01</th>\n",
       "      <td>0.027</td>\n",
       "      <td>0.093</td>\n",
       "      <td>0.59</td>\n",
       "      <td>0.44</td>\n",
       "      <td>0.37</td>\n",
       "      <td>0.000</td>\n",
       "      <td>0.039000</td>\n",
       "      <td>0.27</td>\n",
       "      <td>0.36</td>\n",
       "      <td>0.16</td>\n",
       "    </tr>\n",
       "    <tr>\n",
       "      <th>2017-01-02</th>\n",
       "      <td>0.016</td>\n",
       "      <td>0.036</td>\n",
       "      <td>0.40</td>\n",
       "      <td>0.44</td>\n",
       "      <td>0.39</td>\n",
       "      <td>0.000</td>\n",
       "      <td>0.039000</td>\n",
       "      <td>0.27</td>\n",
       "      <td>0.36</td>\n",
       "      <td>0.19</td>\n",
       "    </tr>\n",
       "    <tr>\n",
       "      <th>2017-01-03</th>\n",
       "      <td>0.011</td>\n",
       "      <td>0.015</td>\n",
       "      <td>0.37</td>\n",
       "      <td>0.23</td>\n",
       "      <td>0.45</td>\n",
       "      <td>0.000</td>\n",
       "      <td>0.039000</td>\n",
       "      <td>0.35</td>\n",
       "      <td>0.15</td>\n",
       "      <td>0.47</td>\n",
       "    </tr>\n",
       "    <tr>\n",
       "      <th>2017-01-04</th>\n",
       "      <td>0.016</td>\n",
       "      <td>0.021</td>\n",
       "      <td>0.44</td>\n",
       "      <td>0.25</td>\n",
       "      <td>0.29</td>\n",
       "      <td>0.000</td>\n",
       "      <td>0.053000</td>\n",
       "      <td>0.45</td>\n",
       "      <td>0.23</td>\n",
       "      <td>0.31</td>\n",
       "    </tr>\n",
       "    <tr>\n",
       "      <th>2017-01-05</th>\n",
       "      <td>0.017</td>\n",
       "      <td>0.048</td>\n",
       "      <td>0.47</td>\n",
       "      <td>0.33</td>\n",
       "      <td>0.16</td>\n",
       "      <td>0.000</td>\n",
       "      <td>0.052333</td>\n",
       "      <td>0.33</td>\n",
       "      <td>0.31</td>\n",
       "      <td>0.23</td>\n",
       "    </tr>\n",
       "    <tr>\n",
       "      <th>...</th>\n",
       "      <td>...</td>\n",
       "      <td>...</td>\n",
       "      <td>...</td>\n",
       "      <td>...</td>\n",
       "      <td>...</td>\n",
       "      <td>...</td>\n",
       "      <td>...</td>\n",
       "      <td>...</td>\n",
       "      <td>...</td>\n",
       "      <td>...</td>\n",
       "    </tr>\n",
       "    <tr>\n",
       "      <th>2020-03-17</th>\n",
       "      <td>0.031</td>\n",
       "      <td>0.013</td>\n",
       "      <td>0.35</td>\n",
       "      <td>0.15</td>\n",
       "      <td>0.56</td>\n",
       "      <td>0.010</td>\n",
       "      <td>0.020000</td>\n",
       "      <td>0.27</td>\n",
       "      <td>0.20</td>\n",
       "      <td>0.52</td>\n",
       "    </tr>\n",
       "    <tr>\n",
       "      <th>2020-03-18</th>\n",
       "      <td>0.053</td>\n",
       "      <td>0.013</td>\n",
       "      <td>0.40</td>\n",
       "      <td>0.23</td>\n",
       "      <td>0.56</td>\n",
       "      <td>0.013</td>\n",
       "      <td>0.048000</td>\n",
       "      <td>0.27</td>\n",
       "      <td>0.31</td>\n",
       "      <td>0.49</td>\n",
       "    </tr>\n",
       "    <tr>\n",
       "      <th>2020-03-19</th>\n",
       "      <td>0.053</td>\n",
       "      <td>0.013</td>\n",
       "      <td>0.47</td>\n",
       "      <td>0.35</td>\n",
       "      <td>0.53</td>\n",
       "      <td>0.015</td>\n",
       "      <td>0.045000</td>\n",
       "      <td>0.27</td>\n",
       "      <td>0.41</td>\n",
       "      <td>0.47</td>\n",
       "    </tr>\n",
       "    <tr>\n",
       "      <th>2020-03-20</th>\n",
       "      <td>0.039</td>\n",
       "      <td>0.013</td>\n",
       "      <td>0.28</td>\n",
       "      <td>0.28</td>\n",
       "      <td>0.53</td>\n",
       "      <td>0.016</td>\n",
       "      <td>0.021000</td>\n",
       "      <td>0.16</td>\n",
       "      <td>0.41</td>\n",
       "      <td>0.49</td>\n",
       "    </tr>\n",
       "    <tr>\n",
       "      <th>2020-03-21</th>\n",
       "      <td>0.041</td>\n",
       "      <td>0.013</td>\n",
       "      <td>0.17</td>\n",
       "      <td>0.23</td>\n",
       "      <td>0.44</td>\n",
       "      <td>0.017</td>\n",
       "      <td>0.019000</td>\n",
       "      <td>0.20</td>\n",
       "      <td>0.28</td>\n",
       "      <td>0.37</td>\n",
       "    </tr>\n",
       "  </tbody>\n",
       "</table>\n",
       "<p>1176 rows × 10 columns</p>\n",
       "</div>"
      ],
      "text/plain": [
       "            SO2_c   CO_c  NO2_c  PM10_c  O3_c  SO2_ldv    CO_ldv  NO2_ldv  \\\n",
       "data                                                                        \n",
       "2017-01-01  0.027  0.093   0.59    0.44  0.37    0.000  0.039000     0.27   \n",
       "2017-01-02  0.016  0.036   0.40    0.44  0.39    0.000  0.039000     0.27   \n",
       "2017-01-03  0.011  0.015   0.37    0.23  0.45    0.000  0.039000     0.35   \n",
       "2017-01-04  0.016  0.021   0.44    0.25  0.29    0.000  0.053000     0.45   \n",
       "2017-01-05  0.017  0.048   0.47    0.33  0.16    0.000  0.052333     0.33   \n",
       "...           ...    ...    ...     ...   ...      ...       ...      ...   \n",
       "2020-03-17  0.031  0.013   0.35    0.15  0.56    0.010  0.020000     0.27   \n",
       "2020-03-18  0.053  0.013   0.40    0.23  0.56    0.013  0.048000     0.27   \n",
       "2020-03-19  0.053  0.013   0.47    0.35  0.53    0.015  0.045000     0.27   \n",
       "2020-03-20  0.039  0.013   0.28    0.28  0.53    0.016  0.021000     0.16   \n",
       "2020-03-21  0.041  0.013   0.17    0.23  0.44    0.017  0.019000     0.20   \n",
       "\n",
       "            PM10_ldv  O3_ldv  \n",
       "data                          \n",
       "2017-01-01      0.36    0.16  \n",
       "2017-01-02      0.36    0.19  \n",
       "2017-01-03      0.15    0.47  \n",
       "2017-01-04      0.23    0.31  \n",
       "2017-01-05      0.31    0.23  \n",
       "...              ...     ...  \n",
       "2020-03-17      0.20    0.52  \n",
       "2020-03-18      0.31    0.49  \n",
       "2020-03-19      0.41    0.47  \n",
       "2020-03-20      0.41    0.49  \n",
       "2020-03-21      0.28    0.37  \n",
       "\n",
       "[1176 rows x 10 columns]"
      ]
     },
     "execution_count": 253,
     "metadata": {},
     "output_type": "execute_result"
    }
   ],
   "source": [
    "df.interpolate(method='time', limit_direction='both')"
   ]
  },
  {
   "cell_type": "markdown",
   "metadata": {},
   "source": [
    "Looking at the box plot diagram again we can see that we have much more compact distributions. This is the result of an approximation and it should be taken into account, but it's an acceptable approach for the purposes of this study."
   ]
  },
  {
   "cell_type": "code",
   "execution_count": 265,
   "metadata": {},
   "outputs": [
    {
     "data": {
      "image/png": "[encoded data removed]",
      "text/plain": [
       "<Figure size 864x576 with 1 Axes>"
      ]
     },
     "metadata": {},
     "output_type": "display_data"
    }
   ],
   "source": [
    "fig, ax = plt.subplots(figsize=(12,8))\n",
    "ax = sns.boxplot(data=df)"
   ]
  },
  {
   "cell_type": "markdown",
   "metadata": {},
   "source": [
    "Now, I want to see if there's any weekly pattern in the levels of pollutants. It's logical to think that a calm and relaxed Sunday would have less traffic (and therefore less contamination) than a busy work Monday!"
   ]
  },
  {
   "cell_type": "code",
   "execution_count": 270,
   "metadata": {},
   "outputs": [
    {
     "data": {
      "image/png": "[encoded data removed]",
      "text/plain": [
       "<Figure size 864x576 with 1 Axes>"
      ]
     },
     "metadata": {},
     "output_type": "display_data"
    }
   ],
   "source": [
    "def group_by_dayofweek(df, year):\n",
    "    return df[df.index.year == year].groupby(df[df.index.year == year].index.dayofweek).mean()\n",
    "\n",
    "week_2017 = group_by_dayofweek(df, 2017)\n",
    "week_2018 = group_by_dayofweek(df, 2018)\n",
    "week_2019 = group_by_dayofweek(df, 2019)\n",
    "week_2020 = group_by_dayofweek(df, 2020)\n",
    "\n",
    "def plot_week(gas):\n",
    "    gas_name = gas.split('_')[0]\n",
    "    station_id = gas.split('_')[1]\n",
    "    days_of_week = ['0', 'Mon', 'Tue', 'Wed', 'Thu', 'Fri', 'Sat', 'Sun']\n",
    "    fig, ax = plt.subplots(figsize=(12,8))\n",
    "    ax = sns.lineplot(data=week_2017, x=week_2019.index, y=gas, color='grey', alpha=0.2, linewidth=4, label=\"2017\")\n",
    "    ax = sns.lineplot(data=week_2018, x=week_2019.index, y=gas, color='grey', alpha=0.4, linewidth=4, label=\"2018\")\n",
    "    ax = sns.lineplot(data=week_2019, x=week_2019.index, y=gas, color='grey', alpha=0.7, linewidth=4, label=\"2019\")\n",
    "    ax = sns.lineplot(data=week_2020, x=week_2020.index, y=gas, color='orange', linewidth=4, label=\"2020\")\n",
    "    ax.set_xlabel('Day of week')\n",
    "    ax.set_ylabel('{} ICA value'.format(gas_name))\n",
    "    #ax.set_xlim(0,6)\n",
    "    ax.set_xticklabels(days_of_week)\n",
    "    ax.set_title('{} levels in {} station'.format(gas_name, station_id))\n",
    "    \n",
    "plot_week('NO2_ldv')"
   ]
  },
  {
   "cell_type": "markdown",
   "metadata": {},
   "source": [
    "After testing several of the gases, it can be seen that there are some that have a clear weekly pattern that they have maintained throughout the years, and others behave more randomly. Either way, it seems like a good idea to group the measurements by week when doing a yearly plot, encompassing this sometimes cyclic beahvior.\n",
    "\n",
    "Therefore, I arrive to the main objective in this analysis, plotting the levels of these gases throughout the year and observe if there has been any recent decrease due to the lockdown situation!"
   ]
  },
  {
   "cell_type": "code",
   "execution_count": 280,
   "metadata": {},
   "outputs": [
    {
     "data": {
      "image/png": "[encoded data removed]",
      "text/plain": [
       "<Figure size 864x576 with 1 Axes>"
      ]
     },
     "metadata": {},
     "output_type": "display_data"
    }
   ],
   "source": [
    "def group_year_by_weeks(df, year):\n",
    "    return df[df.index.year == year].groupby(df[df.index.year == year].index.week).mean()\n",
    "\n",
    "df_2017 = group_year_by_weeks(df, 2017)\n",
    "df_2018 = group_year_by_weeks(df, 2018)\n",
    "df_2019 = group_year_by_weeks(df, 2019)\n",
    "df_2020 = group_year_by_weeks(df, 2020)\n",
    "\n",
    "def plot_year(gas):\n",
    "    gas_name = gas.split('_')[0]\n",
    "    station_id = gas.split('_')[1]\n",
    "    months = ['Jan', 'Feb', 'Mar', 'Apr', 'May', 'Jun', 'Jul', 'Aug', 'Sep', 'Oct', 'Nov', 'Dec']\n",
    "    fig, ax = plt.subplots(figsize=(12,8))\n",
    "    ax = sns.lineplot(data=df_2017, x=df_2019.index, y=gas, color='grey', alpha=0.2, linewidth=4, label=\"2017\")\n",
    "    ax = sns.lineplot(data=df_2018, x=df_2019.index, y=gas, color='grey', alpha=0.4, linewidth=4, label=\"2018\")\n",
    "    ax = sns.lineplot(data=df_2019, x=df_2019.index, y=gas, color='grey', alpha=0.7, linewidth=4, label=\"2019\")\n",
    "    ax = sns.lineplot(data=df_2020, x=df_2020.index, y=gas, color='orange', linewidth=4, label=\"2020\")\n",
    "    ax.set_xlim(1, 52)\n",
    "    ax.set_xticks(np.linspace(1, 48, 12))\n",
    "    ax.set_xlabel('Months')\n",
    "    ax.set_ylabel('{} ICA value'.format(gas_name))\n",
    "    ax.set_xticklabels(months)\n",
    "    ax.set_title('{} levels in {} station'.format(gas_name, station_id))\n",
    "    \n",
    "plot_year('NO2_ldv')"
   ]
  },
  {
   "cell_type": "markdown",
   "metadata": {},
   "source": [
    "And it looks like this is true for some of the cases!\n",
    "However, the whole year 2020 generally presents lower levels of these pollutants, and its hard to say if the decrease around the month of March is truly attributable to coronavirus."
   ]
  }
 ],
 "metadata": {
  "kernelspec": {
   "display_name": "Python 3",
   "language": "python",
   "name": "python3"
  },
  "language_info": {
   "codemirror_mode": {
    "name": "ipython",
    "version": 3
   },
   "file_extension": ".py",
   "mimetype": "text/x-python",
   "name": "python",
   "nbconvert_exporter": "python",
   "pygments_lexer": "ipython3",
   "version": "3.8.1"
  }
 },
 "nbformat": 4,
 "nbformat_minor": 4
}
